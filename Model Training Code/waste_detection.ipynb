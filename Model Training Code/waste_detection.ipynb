{
  "cells": [
    {
      "attachments": {},
      "cell_type": "markdown",
      "metadata": {
        "id": "0UqqTlVsYHi8"
      },
      "source": [
        "Checking GPU availability"
      ]
    },
    {
      "cell_type": "code",
      "execution_count": 1,
      "metadata": {
        "id": "XsU7m64Frccr"
      },
      "outputs": [],
      "source": [
        "# import locale\n",
        "# locale.getpreferredencoding = lambda: \"UTF-8\""
      ]
    },
    {
      "cell_type": "code",
      "execution_count": null,
      "metadata": {
        "colab": {
          "base_uri": "https://localhost:8080/"
        },
        "id": "sw_egZcNVD39",
        "outputId": "ff7bdef0-e262-4d0c-87aa-5b3866c33409"
      },
      "outputs": [],
      "source": [
        "# !nvidia-smi"
      ]
    },
    {
      "cell_type": "code",
      "execution_count": null,
      "metadata": {
        "colab": {
          "base_uri": "https://localhost:8080/"
        },
        "id": "0XoiP9OQXn6t",
        "outputId": "39fee362-3951-4d0e-b44f-abcfb329806f"
      },
      "outputs": [],
      "source": [
        "# import os\n",
        "# HOME = os.getcwd()\n",
        "# print(HOME)"
      ]
    },
    {
      "attachments": {},
      "cell_type": "markdown",
      "metadata": {
        "id": "ghtCh0B2YLjz"
      },
      "source": [
        "Installing ultralytics for yoloV8"
      ]
    },
    {
      "cell_type": "code",
      "execution_count": 1,
      "metadata": {
        "colab": {
          "base_uri": "https://localhost:8080/"
        },
        "id": "8gUuJIAVYFU8",
        "outputId": "55cf09e8-70a6-448a-9733-c830eb559c86"
      },
      "outputs": [
        {
          "name": "stderr",
          "output_type": "stream",
          "text": [
            "Ultralytics YOLOv8.0.125  Python-3.10.0 torch-2.0.1+cu117 CUDA:0 (NVIDIA GeForce MX330, 2048MiB)\n",
            "Setup complete  (8 CPUs, 7.7 GB RAM, 197.6/236.7 GB disk)\n"
          ]
        }
      ],
      "source": [
        "# !pip install ultralytics\n",
        "\n",
        "from IPython import display\n",
        "display.clear_output()\n",
        "\n",
        "import ultralytics\n",
        "ultralytics.checks()"
      ]
    },
    {
      "attachments": {},
      "cell_type": "markdown",
      "metadata": {
        "id": "AZjhTIqkuG5E"
      },
      "source": [
        "Using Yolo"
      ]
    },
    {
      "cell_type": "code",
      "execution_count": 2,
      "metadata": {
        "id": "tK0zaWQIX6t5"
      },
      "outputs": [],
      "source": [
        "from ultralytics import YOLO\n",
        "\n",
        "from IPython.display import display, Image"
      ]
    },
    {
      "attachments": {},
      "cell_type": "markdown",
      "metadata": {
        "id": "5fitcpg0w8IH"
      },
      "source": [
        "Using google drive"
      ]
    },
    {
      "cell_type": "code",
      "execution_count": null,
      "metadata": {
        "colab": {
          "base_uri": "https://localhost:8080/"
        },
        "id": "DDwoHRBJv7IM",
        "outputId": "4a6485df-7c0f-40a5-8b2a-dc78af85b87d"
      },
      "outputs": [],
      "source": [
        "# from google.colab import drive\n",
        "# drive._mount('/content/drive')"
      ]
    },
    {
      "cell_type": "code",
      "execution_count": 7,
      "metadata": {
        "id": "LAQAAVFTw-NC"
      },
      "outputs": [],
      "source": [
        "# model = YOLO(\"yolov8m.pt\")"
      ]
    },
    {
      "cell_type": "code",
      "execution_count": 8,
      "metadata": {
        "id": "abiCLXiYAsaq"
      },
      "outputs": [],
      "source": [
        "# results = model.train(data=\"/content/drive/MyDrive/Colab Notebooks/Waste Dataset/data.yaml\", epochs=10, pretrained=True, visualize=True,project = \"/content/drive/MyDrive/Colab Notebooks/waste model\")"
      ]
    },
    {
      "cell_type": "code",
      "execution_count": null,
      "metadata": {
        "id": "GUnDQw3JCfrC"
      },
      "outputs": [],
      "source": [
        "# model = YOLO(\"/content/drive/MyDrive/Colab Notebooks/waste model/train5/weights/last.pt\")"
      ]
    },
    {
      "cell_type": "code",
      "execution_count": null,
      "metadata": {
        "colab": {
          "base_uri": "https://localhost:8080/"
        },
        "id": "REq-3LuoNHy2",
        "outputId": "8c00dffa-e351-4839-8c29-6b9d1e82f8a7"
      },
      "outputs": [
        {
          "name": "stderr",
          "output_type": "stream",
          "text": [
            "Ultralytics YOLOv8.0.124 🚀 Python-3.10.12 torch-2.0.1+cu118 CUDA:0 (Tesla T4, 15102MiB)\n",
            "\u001b[34m\u001b[1myolo/engine/trainer: \u001b[0mtask=detect, mode=train, model=/content/drive/MyDrive/Colab Notebooks/waste model/train5/weights/last.pt, data=/content/drive/MyDrive/Colab Notebooks/Waste Dataset/data.yaml, epochs=10, patience=50, batch=16, imgsz=640, save=True, save_period=-1, cache=False, device=None, workers=8, project=None, name=None, exist_ok=False, pretrained=True, optimizer=auto, verbose=True, seed=0, deterministic=True, single_cls=False, rect=False, cos_lr=False, close_mosaic=0, resume=False, amp=True, fraction=1.0, profile=False, overlap_mask=True, mask_ratio=4, dropout=0.0, val=True, split=val, save_json=False, save_hybrid=False, conf=None, iou=0.7, max_det=300, half=False, dnn=False, plots=True, source=None, show=False, save_txt=False, save_conf=False, save_crop=False, show_labels=True, show_conf=True, vid_stride=1, line_width=None, visualize=True, augment=False, agnostic_nms=False, classes=None, retina_masks=False, boxes=True, format=torchscript, keras=False, optimize=False, int8=False, dynamic=False, simplify=False, opset=None, workspace=4, nms=False, lr0=0.01, lrf=0.01, momentum=0.937, weight_decay=0.0005, warmup_epochs=3.0, warmup_momentum=0.8, warmup_bias_lr=0.1, box=7.5, cls=0.5, dfl=1.5, pose=12.0, kobj=1.0, label_smoothing=0.0, nbs=64, hsv_h=0.015, hsv_s=0.7, hsv_v=0.4, degrees=0.0, translate=0.1, scale=0.5, shear=0.0, perspective=0.0, flipud=0.0, fliplr=0.5, mosaic=1.0, mixup=0.0, copy_paste=0.0, cfg=None, v5loader=False, tracker=botsort.yaml, save_dir=runs/detect/train\n",
            "\n",
            "                   from  n    params  module                                       arguments                     \n",
            "  0                  -1  1      1392  ultralytics.nn.modules.conv.Conv             [3, 48, 3, 2]                 \n",
            "  1                  -1  1     41664  ultralytics.nn.modules.conv.Conv             [48, 96, 3, 2]                \n",
            "  2                  -1  2    111360  ultralytics.nn.modules.block.C2f             [96, 96, 2, True]             \n",
            "  3                  -1  1    166272  ultralytics.nn.modules.conv.Conv             [96, 192, 3, 2]               \n",
            "  4                  -1  4    813312  ultralytics.nn.modules.block.C2f             [192, 192, 4, True]           \n",
            "  5                  -1  1    664320  ultralytics.nn.modules.conv.Conv             [192, 384, 3, 2]              \n",
            "  6                  -1  4   3248640  ultralytics.nn.modules.block.C2f             [384, 384, 4, True]           \n",
            "  7                  -1  1   1991808  ultralytics.nn.modules.conv.Conv             [384, 576, 3, 2]              \n",
            "  8                  -1  2   3985920  ultralytics.nn.modules.block.C2f             [576, 576, 2, True]           \n",
            "  9                  -1  1    831168  ultralytics.nn.modules.block.SPPF            [576, 576, 5]                 \n",
            " 10                  -1  1         0  torch.nn.modules.upsampling.Upsample         [None, 2, 'nearest']          \n",
            " 11             [-1, 6]  1         0  ultralytics.nn.modules.conv.Concat           [1]                           \n",
            " 12                  -1  2   1993728  ultralytics.nn.modules.block.C2f             [960, 384, 2]                 \n",
            " 13                  -1  1         0  torch.nn.modules.upsampling.Upsample         [None, 2, 'nearest']          \n",
            " 14             [-1, 4]  1         0  ultralytics.nn.modules.conv.Concat           [1]                           \n",
            " 15                  -1  2    517632  ultralytics.nn.modules.block.C2f             [576, 192, 2]                 \n",
            " 16                  -1  1    332160  ultralytics.nn.modules.conv.Conv             [192, 192, 3, 2]              \n",
            " 17            [-1, 12]  1         0  ultralytics.nn.modules.conv.Concat           [1]                           \n",
            " 18                  -1  2   1846272  ultralytics.nn.modules.block.C2f             [576, 384, 2]                 \n",
            " 19                  -1  1   1327872  ultralytics.nn.modules.conv.Conv             [384, 384, 3, 2]              \n",
            " 20             [-1, 9]  1         0  ultralytics.nn.modules.conv.Concat           [1]                           \n",
            " 21                  -1  2   4207104  ultralytics.nn.modules.block.C2f             [960, 576, 2]                 \n",
            " 22        [15, 18, 21]  1   3778012  ultralytics.nn.modules.head.Detect           [4, [192, 384, 576]]          \n",
            "Model summary: 295 layers, 25858636 parameters, 25858620 gradients\n",
            "\n",
            "Transferred 475/475 items from pretrained weights\n",
            "\u001b[34m\u001b[1mTensorBoard: \u001b[0mStart with 'tensorboard --logdir runs/detect/train', view at http://localhost:6006/\n",
            "\u001b[34m\u001b[1mAMP: \u001b[0mrunning Automatic Mixed Precision (AMP) checks with YOLOv8n...\n",
            "\u001b[34m\u001b[1mAMP: \u001b[0mchecks passed ✅\n",
            "\u001b[34m\u001b[1mtrain: \u001b[0mScanning /content/drive/MyDrive/Colab Notebooks/Waste Dataset/train/labels.cache... 1612 images, 11 backgrounds, 0 corrupt: 100%|██████████| 1622/1622 [00:00<?, ?it/s]\n",
            "\u001b[34m\u001b[1malbumentations: \u001b[0mBlur(p=0.01, blur_limit=(3, 7)), MedianBlur(p=0.01, blur_limit=(3, 7)), ToGray(p=0.01), CLAHE(p=0.01, clip_limit=(1, 4.0), tile_grid_size=(8, 8))\n",
            "\u001b[34m\u001b[1mval: \u001b[0mScanning /content/drive/MyDrive/Colab Notebooks/Waste Dataset/valid/labels.cache... 174 images, 0 backgrounds, 0 corrupt: 100%|██████████| 174/174 [00:00<?, ?it/s]\n",
            "Plotting labels to runs/detect/train/labels.jpg... \n",
            "\u001b[34m\u001b[1moptimizer:\u001b[0m AdamW(lr=0.00125, momentum=0.9) with parameter groups 77 weight(decay=0.0), 84 weight(decay=0.0005), 83 bias(decay=0.0)\n",
            "Image sizes 640 train, 640 val\n",
            "Using 2 dataloader workers\n",
            "Logging results to \u001b[1mruns/detect/train\u001b[0m\n",
            "Starting training for 10 epochs...\n",
            "\n",
            "      Epoch    GPU_mem   box_loss   cls_loss   dfl_loss  Instances       Size\n",
            "       1/10      8.19G     0.6122     0.7934      1.152         27        640: 100%|██████████| 102/102 [00:57<00:00,  1.79it/s]\n",
            "                 Class     Images  Instances      Box(P          R      mAP50  mAP50-95): 100%|██████████| 6/6 [00:02<00:00,  2.31it/s]\n",
            "                   all        174        184      0.795      0.724      0.864       0.73\n",
            "\n",
            "      Epoch    GPU_mem   box_loss   cls_loss   dfl_loss  Instances       Size\n",
            "       2/10      7.97G     0.6638     0.8772      1.173         24        640: 100%|██████████| 102/102 [00:51<00:00,  1.98it/s]\n",
            "                 Class     Images  Instances      Box(P          R      mAP50  mAP50-95): 100%|██████████| 6/6 [00:02<00:00,  2.37it/s]\n",
            "                   all        174        184      0.597      0.797      0.779      0.613\n",
            "\n",
            "      Epoch    GPU_mem   box_loss   cls_loss   dfl_loss  Instances       Size\n",
            "       3/10      7.93G     0.7149     0.9498      1.208         22        640: 100%|██████████| 102/102 [00:50<00:00,  2.01it/s]\n",
            "                 Class     Images  Instances      Box(P          R      mAP50  mAP50-95): 100%|██████████| 6/6 [00:02<00:00,  2.36it/s]\n",
            "                   all        174        184      0.748      0.772      0.826       0.66\n",
            "\n",
            "      Epoch    GPU_mem   box_loss   cls_loss   dfl_loss  Instances       Size\n",
            "       4/10      7.93G      0.726     0.9139      1.221         22        640: 100%|██████████| 102/102 [00:50<00:00,  2.00it/s]\n",
            "                 Class     Images  Instances      Box(P          R      mAP50  mAP50-95): 100%|██████████| 6/6 [00:03<00:00,  1.84it/s]\n",
            "                   all        174        184      0.698      0.768      0.835      0.688\n",
            "\n",
            "      Epoch    GPU_mem   box_loss   cls_loss   dfl_loss  Instances       Size\n",
            "       5/10      7.97G        0.7     0.8704      1.198         25        640: 100%|██████████| 102/102 [00:50<00:00,  2.02it/s]\n",
            "                 Class     Images  Instances      Box(P          R      mAP50  mAP50-95): 100%|██████████| 6/6 [00:02<00:00,  2.06it/s]\n",
            "                   all        174        184      0.709      0.824      0.877      0.723\n",
            "\n",
            "      Epoch    GPU_mem   box_loss   cls_loss   dfl_loss  Instances       Size\n",
            "       6/10      7.95G     0.6772     0.8794      1.185         15        640: 100%|██████████| 102/102 [00:50<00:00,  2.01it/s]\n",
            "                 Class     Images  Instances      Box(P          R      mAP50  mAP50-95): 100%|██████████| 6/6 [00:02<00:00,  2.33it/s]\n",
            "                   all        174        184      0.856      0.825      0.915      0.794\n",
            "\n",
            "      Epoch    GPU_mem   box_loss   cls_loss   dfl_loss  Instances       Size\n",
            "       7/10      7.96G     0.6295      0.775      1.153         16        640: 100%|██████████| 102/102 [00:51<00:00,  1.97it/s]\n",
            "                 Class     Images  Instances      Box(P          R      mAP50  mAP50-95): 100%|██████████| 6/6 [00:02<00:00,  2.39it/s]\n",
            "                   all        174        184      0.829      0.919      0.936      0.822\n",
            "\n",
            "      Epoch    GPU_mem   box_loss   cls_loss   dfl_loss  Instances       Size\n",
            "       8/10      7.98G     0.6091     0.7441      1.146         20        640: 100%|██████████| 102/102 [00:50<00:00,  2.00it/s]\n",
            "                 Class     Images  Instances      Box(P          R      mAP50  mAP50-95): 100%|██████████| 6/6 [00:03<00:00,  1.97it/s]\n",
            "                   all        174        184      0.849      0.919      0.946      0.852\n",
            "\n",
            "      Epoch    GPU_mem   box_loss   cls_loss   dfl_loss  Instances       Size\n",
            "       9/10      7.95G     0.5944      0.694      1.135         16        640: 100%|██████████| 102/102 [00:50<00:00,  2.02it/s]\n",
            "                 Class     Images  Instances      Box(P          R      mAP50  mAP50-95): 100%|██████████| 6/6 [00:03<00:00,  1.85it/s]\n",
            "                   all        174        184      0.869      0.901      0.964      0.872\n",
            "\n",
            "      Epoch    GPU_mem   box_loss   cls_loss   dfl_loss  Instances       Size\n",
            "      10/10      7.96G      0.561      0.642      1.111         15        640: 100%|██████████| 102/102 [00:50<00:00,  2.01it/s]\n",
            "                 Class     Images  Instances      Box(P          R      mAP50  mAP50-95): 100%|██████████| 6/6 [00:06<00:00,  1.12s/it]\n",
            "                   all        174        184      0.885      0.874      0.961      0.866\n",
            "\n",
            "10 epochs completed in 0.169 hours.\n",
            "Optimizer stripped from runs/detect/train/weights/last.pt, 52.0MB\n",
            "Optimizer stripped from runs/detect/train/weights/best.pt, 52.0MB\n",
            "\n",
            "Validating runs/detect/train/weights/best.pt...\n",
            "Ultralytics YOLOv8.0.124 🚀 Python-3.10.12 torch-2.0.1+cu118 CUDA:0 (Tesla T4, 15102MiB)\n",
            "Model summary (fused): 218 layers, 25842076 parameters, 0 gradients\n",
            "                 Class     Images  Instances      Box(P          R      mAP50  mAP50-95): 100%|██████████| 6/6 [00:06<00:00,  1.08s/it]\n",
            "                   all        174        184      0.869      0.903      0.964      0.871\n",
            "         biodegradable        174         53      0.828      0.962      0.966      0.827\n",
            "                 metal        174         40      0.811      0.925      0.954      0.891\n",
            "                 paper        174         45          1      0.828      0.981      0.878\n",
            "               plastic        174         46      0.838      0.898      0.956      0.891\n",
            "Speed: 3.7ms preprocess, 8.1ms inference, 0.0ms loss, 3.9ms postprocess per image\n",
            "Results saved to \u001b[1mruns/detect/train\u001b[0m\n"
          ]
        }
      ],
      "source": [
        "# results = model.train(data=\"/content/drive/MyDrive/Colab Notebooks/Waste Dataset/data.yaml\", epochs=10, pretrained=True, visualize=True,)"
      ]
    },
    {
      "cell_type": "code",
      "execution_count": null,
      "metadata": {
        "id": "w1_5LH2Qf2SY"
      },
      "outputs": [],
      "source": [
        "# model = YOLO(\"runs/detect/train/weights/last.pt\")"
      ]
    },
    {
      "cell_type": "code",
      "execution_count": null,
      "metadata": {
        "colab": {
          "base_uri": "https://localhost:8080/"
        },
        "id": "LM_W-zjKxP39",
        "outputId": "02eb4e48-658b-41cc-e1c2-08e3968e2a48"
      },
      "outputs": [
        {
          "name": "stderr",
          "output_type": "stream",
          "text": [
            "Ultralytics YOLOv8.0.124 🚀 Python-3.10.12 torch-2.0.1+cu118 CUDA:0 (Tesla T4, 15102MiB)\n",
            "\u001b[34m\u001b[1myolo/engine/trainer: \u001b[0mtask=detect, mode=train, model=runs/detect/train/weights/last.pt, data=/content/drive/MyDrive/Colab Notebooks/Waste Dataset/data.yaml, epochs=10, patience=50, batch=16, imgsz=640, save=True, save_period=-1, cache=False, device=None, workers=8, project=/content/drive/MyDrive/Colab Notebooks/waste model, name=None, exist_ok=False, pretrained=True, optimizer=auto, verbose=True, seed=0, deterministic=True, single_cls=False, rect=False, cos_lr=False, close_mosaic=0, resume=False, amp=True, fraction=1.0, profile=False, overlap_mask=True, mask_ratio=4, dropout=0.0, val=True, split=val, save_json=False, save_hybrid=False, conf=None, iou=0.7, max_det=300, half=False, dnn=False, plots=True, source=None, show=False, save_txt=False, save_conf=False, save_crop=False, show_labels=True, show_conf=True, vid_stride=1, line_width=None, visualize=True, augment=False, agnostic_nms=False, classes=None, retina_masks=False, boxes=True, format=torchscript, keras=False, optimize=False, int8=False, dynamic=False, simplify=False, opset=None, workspace=4, nms=False, lr0=0.01, lrf=0.01, momentum=0.937, weight_decay=0.0005, warmup_epochs=3.0, warmup_momentum=0.8, warmup_bias_lr=0.1, box=7.5, cls=0.5, dfl=1.5, pose=12.0, kobj=1.0, label_smoothing=0.0, nbs=64, hsv_h=0.015, hsv_s=0.7, hsv_v=0.4, degrees=0.0, translate=0.1, scale=0.5, shear=0.0, perspective=0.0, flipud=0.0, fliplr=0.5, mosaic=1.0, mixup=0.0, copy_paste=0.0, cfg=None, v5loader=False, tracker=botsort.yaml, save_dir=/content/drive/MyDrive/Colab Notebooks/waste model/train6\n",
            "\n",
            "                   from  n    params  module                                       arguments                     \n",
            "  0                  -1  1      1392  ultralytics.nn.modules.conv.Conv             [3, 48, 3, 2]                 \n",
            "  1                  -1  1     41664  ultralytics.nn.modules.conv.Conv             [48, 96, 3, 2]                \n",
            "  2                  -1  2    111360  ultralytics.nn.modules.block.C2f             [96, 96, 2, True]             \n",
            "  3                  -1  1    166272  ultralytics.nn.modules.conv.Conv             [96, 192, 3, 2]               \n",
            "  4                  -1  4    813312  ultralytics.nn.modules.block.C2f             [192, 192, 4, True]           \n",
            "  5                  -1  1    664320  ultralytics.nn.modules.conv.Conv             [192, 384, 3, 2]              \n",
            "  6                  -1  4   3248640  ultralytics.nn.modules.block.C2f             [384, 384, 4, True]           \n",
            "  7                  -1  1   1991808  ultralytics.nn.modules.conv.Conv             [384, 576, 3, 2]              \n",
            "  8                  -1  2   3985920  ultralytics.nn.modules.block.C2f             [576, 576, 2, True]           \n",
            "  9                  -1  1    831168  ultralytics.nn.modules.block.SPPF            [576, 576, 5]                 \n",
            " 10                  -1  1         0  torch.nn.modules.upsampling.Upsample         [None, 2, 'nearest']          \n",
            " 11             [-1, 6]  1         0  ultralytics.nn.modules.conv.Concat           [1]                           \n",
            " 12                  -1  2   1993728  ultralytics.nn.modules.block.C2f             [960, 384, 2]                 \n",
            " 13                  -1  1         0  torch.nn.modules.upsampling.Upsample         [None, 2, 'nearest']          \n",
            " 14             [-1, 4]  1         0  ultralytics.nn.modules.conv.Concat           [1]                           \n",
            " 15                  -1  2    517632  ultralytics.nn.modules.block.C2f             [576, 192, 2]                 \n",
            " 16                  -1  1    332160  ultralytics.nn.modules.conv.Conv             [192, 192, 3, 2]              \n",
            " 17            [-1, 12]  1         0  ultralytics.nn.modules.conv.Concat           [1]                           \n",
            " 18                  -1  2   1846272  ultralytics.nn.modules.block.C2f             [576, 384, 2]                 \n",
            " 19                  -1  1   1327872  ultralytics.nn.modules.conv.Conv             [384, 384, 3, 2]              \n",
            " 20             [-1, 9]  1         0  ultralytics.nn.modules.conv.Concat           [1]                           \n",
            " 21                  -1  2   4207104  ultralytics.nn.modules.block.C2f             [960, 576, 2]                 \n",
            " 22        [15, 18, 21]  1   3778012  ultralytics.nn.modules.head.Detect           [4, [192, 384, 576]]          \n",
            "Model summary: 295 layers, 25858636 parameters, 25858620 gradients\n",
            "\n",
            "Transferred 475/475 items from pretrained weights\n",
            "\u001b[34m\u001b[1mTensorBoard: \u001b[0mStart with 'tensorboard --logdir /content/drive/MyDrive/Colab Notebooks/waste model/train6', view at http://localhost:6006/\n",
            "\u001b[34m\u001b[1mAMP: \u001b[0mrunning Automatic Mixed Precision (AMP) checks with YOLOv8n...\n",
            "\u001b[34m\u001b[1mAMP: \u001b[0mchecks passed ✅\n",
            "\u001b[34m\u001b[1mtrain: \u001b[0mScanning /content/drive/MyDrive/Colab Notebooks/Waste Dataset/train/labels.cache... 1612 images, 11 backgrounds, 0 corrupt: 100%|██████████| 1622/1622 [00:00<?, ?it/s]\n",
            "\u001b[34m\u001b[1malbumentations: \u001b[0mBlur(p=0.01, blur_limit=(3, 7)), MedianBlur(p=0.01, blur_limit=(3, 7)), ToGray(p=0.01), CLAHE(p=0.01, clip_limit=(1, 4.0), tile_grid_size=(8, 8))\n",
            "\u001b[34m\u001b[1mval: \u001b[0mScanning /content/drive/MyDrive/Colab Notebooks/Waste Dataset/valid/labels.cache... 174 images, 0 backgrounds, 0 corrupt: 100%|██████████| 174/174 [00:00<?, ?it/s]\n",
            "Plotting labels to /content/drive/MyDrive/Colab Notebooks/waste model/train6/labels.jpg... \n",
            "\u001b[34m\u001b[1moptimizer:\u001b[0m AdamW(lr=0.00125, momentum=0.9) with parameter groups 77 weight(decay=0.0), 84 weight(decay=0.0005), 83 bias(decay=0.0)\n",
            "Image sizes 640 train, 640 val\n",
            "Using 2 dataloader workers\n",
            "Logging results to \u001b[1m/content/drive/MyDrive/Colab Notebooks/waste model/train6\u001b[0m\n",
            "Starting training for 10 epochs...\n",
            "\n",
            "      Epoch    GPU_mem   box_loss   cls_loss   dfl_loss  Instances       Size\n",
            "       1/10      7.65G     0.5459     0.6451      1.104         27        640: 100%|██████████| 102/102 [00:55<00:00,  1.85it/s]\n",
            "                 Class     Images  Instances      Box(P          R      mAP50  mAP50-95): 100%|██████████| 6/6 [00:03<00:00,  1.88it/s]\n",
            "                   all        174        184      0.869      0.865      0.953      0.846\n",
            "\n",
            "      Epoch    GPU_mem   box_loss   cls_loss   dfl_loss  Instances       Size\n",
            "       2/10      7.91G     0.5852     0.7117      1.115         24        640: 100%|██████████| 102/102 [00:54<00:00,  1.88it/s]\n",
            "                 Class     Images  Instances      Box(P          R      mAP50  mAP50-95): 100%|██████████| 6/6 [00:02<00:00,  2.27it/s]\n",
            "                   all        174        184      0.825      0.751       0.88      0.739\n",
            "\n",
            "      Epoch    GPU_mem   box_loss   cls_loss   dfl_loss  Instances       Size\n",
            "       3/10      7.92G     0.6303     0.7792      1.146         22        640: 100%|██████████| 102/102 [00:51<00:00,  1.99it/s]\n",
            "                 Class     Images  Instances      Box(P          R      mAP50  mAP50-95): 100%|██████████| 6/6 [00:03<00:00,  1.67it/s]\n",
            "                   all        174        184      0.832      0.855      0.929      0.812\n",
            "\n",
            "      Epoch    GPU_mem   box_loss   cls_loss   dfl_loss  Instances       Size\n",
            "       4/10      7.93G     0.6576     0.7786      1.168         22        640: 100%|██████████| 102/102 [00:51<00:00,  1.98it/s]\n",
            "                 Class     Images  Instances      Box(P          R      mAP50  mAP50-95): 100%|██████████| 6/6 [00:03<00:00,  1.70it/s]\n",
            "                   all        174        184      0.795      0.776      0.895      0.781\n",
            "\n",
            "      Epoch    GPU_mem   box_loss   cls_loss   dfl_loss  Instances       Size\n",
            "       5/10      7.95G     0.6286     0.7534       1.15         25        640: 100%|██████████| 102/102 [00:50<00:00,  2.00it/s]\n",
            "                 Class     Images  Instances      Box(P          R      mAP50  mAP50-95): 100%|██████████| 6/6 [00:02<00:00,  2.15it/s]\n",
            "                   all        174        184      0.769      0.814      0.877       0.74\n",
            "\n",
            "      Epoch    GPU_mem   box_loss   cls_loss   dfl_loss  Instances       Size\n",
            "       6/10      7.92G     0.6322     0.7452       1.15         15        640: 100%|██████████| 102/102 [00:51<00:00,  1.97it/s]\n",
            "                 Class     Images  Instances      Box(P          R      mAP50  mAP50-95): 100%|██████████| 6/6 [00:03<00:00,  1.70it/s]\n",
            "                   all        174        184      0.868      0.877      0.957      0.832\n",
            "\n",
            "      Epoch    GPU_mem   box_loss   cls_loss   dfl_loss  Instances       Size\n",
            "       7/10      7.94G      0.588     0.6904      1.117         16        640: 100%|██████████| 102/102 [00:51<00:00,  1.99it/s]\n",
            "                 Class     Images  Instances      Box(P          R      mAP50  mAP50-95): 100%|██████████| 6/6 [00:02<00:00,  2.41it/s]\n",
            "                   all        174        184      0.863      0.893      0.944      0.835\n",
            "\n",
            "      Epoch    GPU_mem   box_loss   cls_loss   dfl_loss  Instances       Size\n",
            "       8/10      7.96G     0.5779     0.6666      1.119         20        640: 100%|██████████| 102/102 [00:51<00:00,  1.98it/s]\n",
            "                 Class     Images  Instances      Box(P          R      mAP50  mAP50-95): 100%|██████████| 6/6 [00:02<00:00,  2.31it/s]\n",
            "                   all        174        184        0.9      0.875      0.967       0.88\n",
            "\n",
            "      Epoch    GPU_mem   box_loss   cls_loss   dfl_loss  Instances       Size\n",
            "       9/10      7.92G     0.5622      0.616      1.107         16        640: 100%|██████████| 102/102 [00:51<00:00,  1.98it/s]\n",
            "                 Class     Images  Instances      Box(P          R      mAP50  mAP50-95): 100%|██████████| 6/6 [00:03<00:00,  1.74it/s]\n",
            "                   all        174        184      0.874      0.946      0.973      0.894\n",
            "\n",
            "      Epoch    GPU_mem   box_loss   cls_loss   dfl_loss  Instances       Size\n",
            "      10/10      7.91G     0.5316     0.5686      1.091         15        640: 100%|██████████| 102/102 [00:54<00:00,  1.86it/s]\n",
            "                 Class     Images  Instances      Box(P          R      mAP50  mAP50-95): 100%|██████████| 6/6 [00:06<00:00,  1.06s/it]\n",
            "                   all        174        184        0.9       0.92      0.978      0.903\n",
            "\n",
            "10 epochs completed in 0.170 hours.\n",
            "Optimizer stripped from /content/drive/MyDrive/Colab Notebooks/waste model/train6/weights/last.pt, 52.0MB\n",
            "Optimizer stripped from /content/drive/MyDrive/Colab Notebooks/waste model/train6/weights/best.pt, 52.0MB\n",
            "\n",
            "Validating /content/drive/MyDrive/Colab Notebooks/waste model/train6/weights/best.pt...\n",
            "Ultralytics YOLOv8.0.124 🚀 Python-3.10.12 torch-2.0.1+cu118 CUDA:0 (Tesla T4, 15102MiB)\n",
            "Model summary (fused): 218 layers, 25842076 parameters, 0 gradients\n",
            "                 Class     Images  Instances      Box(P          R      mAP50  mAP50-95): 100%|██████████| 6/6 [00:08<00:00,  1.39s/it]\n",
            "                   all        174        184        0.9       0.92      0.978      0.904\n",
            "         biodegradable        174         53      0.928      0.977      0.978      0.858\n",
            "                 metal        174         40      0.829      0.975       0.98      0.918\n",
            "                 paper        174         45      0.843          1      0.971      0.899\n",
            "               plastic        174         46          1      0.726      0.982       0.94\n",
            "Speed: 4.2ms preprocess, 8.8ms inference, 0.0ms loss, 5.6ms postprocess per image\n",
            "Results saved to \u001b[1m/content/drive/MyDrive/Colab Notebooks/waste model/train6\u001b[0m\n"
          ]
        }
      ],
      "source": [
        "# results = model.train(data=\"/content/drive/MyDrive/Colab Notebooks/Waste Dataset/data.yaml\", epochs=10, pretrained=True, visualize=True,project = \"/content/drive/MyDrive/Colab Notebooks/waste model\")"
      ]
    },
    {
      "cell_type": "code",
      "execution_count": null,
      "metadata": {
        "colab": {
          "base_uri": "https://localhost:8080/"
        },
        "id": "rwrWQKN_xTlf",
        "outputId": "c8258d8e-4b8a-4783-d801-28a564fd73d5"
      },
      "outputs": [
        {
          "name": "stderr",
          "output_type": "stream",
          "text": [
            "New https://pypi.org/project/ultralytics/8.0.125 available 😃 Update with 'pip install -U ultralytics'\n",
            "Ultralytics YOLOv8.0.124 🚀 Python-3.10.12 torch-2.0.1+cu118 CUDA:0 (Tesla T4, 15102MiB)\n",
            "\u001b[34m\u001b[1myolo/engine/trainer: \u001b[0mtask=detect, mode=train, model=/content/drive/MyDrive/Colab Notebooks/waste model/train9/weights/last.pt, data=/content/drive/MyDrive/Colab Notebooks/Waste Dataset/data.yaml, epochs=30, patience=10, batch=16, imgsz=640, save=True, save_period=-1, cache=False, device=None, workers=8, project=/content/drive/MyDrive/Colab Notebooks/waste model, name=None, exist_ok=False, pretrained=True, optimizer=auto, verbose=True, seed=0, deterministic=True, single_cls=False, rect=False, cos_lr=False, close_mosaic=0, resume=False, amp=True, fraction=1.0, profile=False, overlap_mask=True, mask_ratio=4, dropout=0.0, val=True, split=val, save_json=False, save_hybrid=False, conf=None, iou=0.7, max_det=300, half=False, dnn=False, plots=True, source=None, show=False, save_txt=False, save_conf=False, save_crop=False, show_labels=True, show_conf=True, vid_stride=1, line_width=None, visualize=True, augment=False, agnostic_nms=False, classes=None, retina_masks=False, boxes=True, format=torchscript, keras=False, optimize=False, int8=False, dynamic=False, simplify=False, opset=None, workspace=4, nms=False, lr0=0.01, lrf=0.01, momentum=0.937, weight_decay=0.0005, warmup_epochs=3.0, warmup_momentum=0.8, warmup_bias_lr=0.1, box=7.5, cls=0.5, dfl=1.5, pose=12.0, kobj=1.0, label_smoothing=0.0, nbs=64, hsv_h=0.015, hsv_s=0.7, hsv_v=0.4, degrees=0.0, translate=0.1, scale=0.5, shear=0.0, perspective=0.0, flipud=0.0, fliplr=0.5, mosaic=1.0, mixup=0.0, copy_paste=0.0, cfg=None, v5loader=False, tracker=botsort.yaml, save_dir=/content/drive/MyDrive/Colab Notebooks/waste model/train10\n",
            "\n",
            "                   from  n    params  module                                       arguments                     \n",
            "  0                  -1  1      1392  ultralytics.nn.modules.conv.Conv             [3, 48, 3, 2]                 \n",
            "  1                  -1  1     41664  ultralytics.nn.modules.conv.Conv             [48, 96, 3, 2]                \n",
            "  2                  -1  2    111360  ultralytics.nn.modules.block.C2f             [96, 96, 2, True]             \n",
            "  3                  -1  1    166272  ultralytics.nn.modules.conv.Conv             [96, 192, 3, 2]               \n",
            "  4                  -1  4    813312  ultralytics.nn.modules.block.C2f             [192, 192, 4, True]           \n",
            "  5                  -1  1    664320  ultralytics.nn.modules.conv.Conv             [192, 384, 3, 2]              \n",
            "  6                  -1  4   3248640  ultralytics.nn.modules.block.C2f             [384, 384, 4, True]           \n",
            "  7                  -1  1   1991808  ultralytics.nn.modules.conv.Conv             [384, 576, 3, 2]              \n",
            "  8                  -1  2   3985920  ultralytics.nn.modules.block.C2f             [576, 576, 2, True]           \n",
            "  9                  -1  1    831168  ultralytics.nn.modules.block.SPPF            [576, 576, 5]                 \n",
            " 10                  -1  1         0  torch.nn.modules.upsampling.Upsample         [None, 2, 'nearest']          \n",
            " 11             [-1, 6]  1         0  ultralytics.nn.modules.conv.Concat           [1]                           \n",
            " 12                  -1  2   1993728  ultralytics.nn.modules.block.C2f             [960, 384, 2]                 \n",
            " 13                  -1  1         0  torch.nn.modules.upsampling.Upsample         [None, 2, 'nearest']          \n",
            " 14             [-1, 4]  1         0  ultralytics.nn.modules.conv.Concat           [1]                           \n",
            " 15                  -1  2    517632  ultralytics.nn.modules.block.C2f             [576, 192, 2]                 \n",
            " 16                  -1  1    332160  ultralytics.nn.modules.conv.Conv             [192, 192, 3, 2]              \n",
            " 17            [-1, 12]  1         0  ultralytics.nn.modules.conv.Concat           [1]                           \n",
            " 18                  -1  2   1846272  ultralytics.nn.modules.block.C2f             [576, 384, 2]                 \n",
            " 19                  -1  1   1327872  ultralytics.nn.modules.conv.Conv             [384, 384, 3, 2]              \n",
            " 20             [-1, 9]  1         0  ultralytics.nn.modules.conv.Concat           [1]                           \n",
            " 21                  -1  2   4207104  ultralytics.nn.modules.block.C2f             [960, 576, 2]                 \n",
            " 22        [15, 18, 21]  1   3778012  ultralytics.nn.modules.head.Detect           [4, [192, 384, 576]]          \n",
            "Model summary: 295 layers, 25858636 parameters, 25858620 gradients\n",
            "\n",
            "Transferred 475/475 items from pretrained weights\n",
            "\u001b[34m\u001b[1mTensorBoard: \u001b[0mStart with 'tensorboard --logdir /content/drive/MyDrive/Colab Notebooks/waste model/train10', view at http://localhost:6006/\n",
            "\u001b[34m\u001b[1mAMP: \u001b[0mrunning Automatic Mixed Precision (AMP) checks with YOLOv8n...\n",
            "\u001b[34m\u001b[1mAMP: \u001b[0mchecks passed ✅\n",
            "\u001b[34m\u001b[1mtrain: \u001b[0mScanning /content/drive/MyDrive/Colab Notebooks/Waste Dataset/train/labels.cache... 1612 images, 11 backgrounds, 0 corrupt: 100%|██████████| 1622/1622 [00:00<?, ?it/s]\n",
            "\u001b[34m\u001b[1malbumentations: \u001b[0mBlur(p=0.01, blur_limit=(3, 7)), MedianBlur(p=0.01, blur_limit=(3, 7)), ToGray(p=0.01), CLAHE(p=0.01, clip_limit=(1, 4.0), tile_grid_size=(8, 8))\n",
            "\u001b[34m\u001b[1mval: \u001b[0mScanning /content/drive/MyDrive/Colab Notebooks/Waste Dataset/valid/labels.cache... 174 images, 0 backgrounds, 0 corrupt: 100%|██████████| 174/174 [00:00<?, ?it/s]\n",
            "Plotting labels to /content/drive/MyDrive/Colab Notebooks/waste model/train10/labels.jpg... \n",
            "\u001b[34m\u001b[1moptimizer:\u001b[0m AdamW(lr=0.00125, momentum=0.9) with parameter groups 77 weight(decay=0.0), 84 weight(decay=0.0005), 83 bias(decay=0.0)\n",
            "Image sizes 640 train, 640 val\n",
            "Using 2 dataloader workers\n",
            "Logging results to \u001b[1m/content/drive/MyDrive/Colab Notebooks/waste model/train10\u001b[0m\n",
            "Starting training for 30 epochs...\n",
            "\n",
            "      Epoch    GPU_mem   box_loss   cls_loss   dfl_loss  Instances       Size\n",
            "       1/30      6.83G      0.433     0.4081      1.024         27        640: 100%|██████████| 102/102 [00:56<00:00,  1.82it/s]\n",
            "                 Class     Images  Instances      Box(P          R      mAP50  mAP50-95): 100%|██████████| 6/6 [00:02<00:00,  2.35it/s]\n",
            "                   all        174        184      0.844      0.917      0.925      0.856\n",
            "\n",
            "      Epoch    GPU_mem   box_loss   cls_loss   dfl_loss  Instances       Size\n",
            "       2/30      7.09G     0.4327      0.416       1.01         24        640: 100%|██████████| 102/102 [00:53<00:00,  1.91it/s]\n",
            "                 Class     Images  Instances      Box(P          R      mAP50  mAP50-95): 100%|██████████| 6/6 [00:02<00:00,  2.31it/s]\n",
            "                   all        174        184      0.897      0.915      0.961      0.862\n",
            "\n",
            "      Epoch    GPU_mem   box_loss   cls_loss   dfl_loss  Instances       Size\n",
            "       3/30      7.09G     0.4867     0.5011      1.046         22        640: 100%|██████████| 102/102 [00:53<00:00,  1.92it/s]\n",
            "                 Class     Images  Instances      Box(P          R      mAP50  mAP50-95): 100%|██████████| 6/6 [00:02<00:00,  2.34it/s]\n",
            "                   all        174        184       0.93      0.881       0.96      0.849\n",
            "\n",
            "      Epoch    GPU_mem   box_loss   cls_loss   dfl_loss  Instances       Size\n",
            "       4/30       7.1G      0.529     0.5227      1.071         22        640: 100%|██████████| 102/102 [00:52<00:00,  1.96it/s]\n",
            "                 Class     Images  Instances      Box(P          R      mAP50  mAP50-95): 100%|██████████| 6/6 [00:03<00:00,  1.93it/s]\n",
            "                   all        174        184      0.863      0.916      0.952      0.844\n",
            "\n",
            "      Epoch    GPU_mem   box_loss   cls_loss   dfl_loss  Instances       Size\n",
            "       5/30      7.15G     0.5214     0.5214      1.068         25        640: 100%|██████████| 102/102 [00:51<00:00,  1.97it/s]\n",
            "                 Class     Images  Instances      Box(P          R      mAP50  mAP50-95): 100%|██████████| 6/6 [00:03<00:00,  1.67it/s]\n",
            "                   all        174        184      0.778      0.944      0.952       0.83\n",
            "\n",
            "      Epoch    GPU_mem   box_loss   cls_loss   dfl_loss  Instances       Size\n",
            "       6/30       7.1G     0.5403     0.5389      1.082         15        640: 100%|██████████| 102/102 [00:51<00:00,  1.98it/s]\n",
            "                 Class     Images  Instances      Box(P          R      mAP50  mAP50-95): 100%|██████████| 6/6 [00:02<00:00,  2.28it/s]\n",
            "                   all        174        184      0.798      0.817      0.905      0.779\n",
            "\n",
            "      Epoch    GPU_mem   box_loss   cls_loss   dfl_loss  Instances       Size\n",
            "       7/30      7.14G     0.5205     0.5268      1.069         16        640: 100%|██████████| 102/102 [00:51<00:00,  1.97it/s]\n",
            "                 Class     Images  Instances      Box(P          R      mAP50  mAP50-95): 100%|██████████| 6/6 [00:02<00:00,  2.43it/s]\n",
            "                   all        174        184      0.941      0.905      0.968      0.874\n",
            "\n",
            "      Epoch    GPU_mem   box_loss   cls_loss   dfl_loss  Instances       Size\n",
            "       8/30      7.11G     0.5199     0.5377      1.073         20        640: 100%|██████████| 102/102 [00:52<00:00,  1.95it/s]\n",
            "                 Class     Images  Instances      Box(P          R      mAP50  mAP50-95): 100%|██████████| 6/6 [00:02<00:00,  2.42it/s]\n",
            "                   all        174        184      0.893      0.907      0.965      0.858\n",
            "\n",
            "      Epoch    GPU_mem   box_loss   cls_loss   dfl_loss  Instances       Size\n",
            "       9/30      7.11G      0.533     0.5406       1.08         16        640: 100%|██████████| 102/102 [00:51<00:00,  1.98it/s]\n",
            "                 Class     Images  Instances      Box(P          R      mAP50  mAP50-95): 100%|██████████| 6/6 [00:03<00:00,  1.90it/s]\n",
            "                   all        174        184      0.894      0.894      0.963      0.883\n",
            "\n",
            "      Epoch    GPU_mem   box_loss   cls_loss   dfl_loss  Instances       Size\n",
            "      10/30      7.09G     0.5444     0.5558      1.094         15        640: 100%|██████████| 102/102 [00:52<00:00,  1.96it/s]\n",
            "                 Class     Images  Instances      Box(P          R      mAP50  mAP50-95): 100%|██████████| 6/6 [00:03<00:00,  1.96it/s]\n",
            "                   all        174        184      0.771        0.9      0.949      0.856\n",
            "\n",
            "      Epoch    GPU_mem   box_loss   cls_loss   dfl_loss  Instances       Size\n",
            "      11/30       7.1G     0.5569     0.5785      1.105         21        640: 100%|██████████| 102/102 [00:51<00:00,  2.00it/s]\n",
            "                 Class     Images  Instances      Box(P          R      mAP50  mAP50-95): 100%|██████████| 6/6 [00:03<00:00,  1.70it/s]\n",
            "                   all        174        184      0.899      0.962      0.975      0.896\n",
            "\n",
            "      Epoch    GPU_mem   box_loss   cls_loss   dfl_loss  Instances       Size\n",
            "      12/30       7.1G      0.548     0.5601      1.098         21        640: 100%|██████████| 102/102 [00:52<00:00,  1.95it/s]\n",
            "                 Class     Images  Instances      Box(P          R      mAP50  mAP50-95): 100%|██████████| 6/6 [00:02<00:00,  2.30it/s]\n",
            "                   all        174        184      0.815      0.908      0.939      0.862\n",
            "\n",
            "      Epoch    GPU_mem   box_loss   cls_loss   dfl_loss  Instances       Size\n",
            "      13/30      7.13G     0.5322     0.5495      1.086         15        640: 100%|██████████| 102/102 [00:51<00:00,  2.00it/s]\n",
            "                 Class     Images  Instances      Box(P          R      mAP50  mAP50-95): 100%|██████████| 6/6 [00:03<00:00,  1.66it/s]\n",
            "                   all        174        184      0.839      0.881      0.939      0.852\n",
            "\n",
            "      Epoch    GPU_mem   box_loss   cls_loss   dfl_loss  Instances       Size\n",
            "      14/30      7.11G     0.5372     0.5299      1.088         15        640: 100%|██████████| 102/102 [00:51<00:00,  1.99it/s]\n",
            "                 Class     Images  Instances      Box(P          R      mAP50  mAP50-95): 100%|██████████| 6/6 [00:02<00:00,  2.42it/s]\n",
            "                   all        174        184      0.845      0.866      0.958      0.869\n",
            "\n",
            "      Epoch    GPU_mem   box_loss   cls_loss   dfl_loss  Instances       Size\n",
            "      15/30       7.1G     0.5205      0.511      1.073         24        640: 100%|██████████| 102/102 [00:51<00:00,  1.99it/s]\n",
            "                 Class     Images  Instances      Box(P          R      mAP50  mAP50-95): 100%|██████████| 6/6 [00:02<00:00,  2.42it/s]\n",
            "                   all        174        184      0.942      0.979      0.987      0.912\n",
            "\n",
            "      Epoch    GPU_mem   box_loss   cls_loss   dfl_loss  Instances       Size\n",
            "      16/30      7.13G     0.5224     0.5096      1.077         24        640: 100%|██████████| 102/102 [00:52<00:00,  1.95it/s]\n",
            "                 Class     Images  Instances      Box(P          R      mAP50  mAP50-95): 100%|██████████| 6/6 [00:02<00:00,  2.41it/s]\n",
            "                   all        174        184      0.929      0.956      0.982      0.908\n",
            "\n",
            "      Epoch    GPU_mem   box_loss   cls_loss   dfl_loss  Instances       Size\n",
            "      17/30      7.11G     0.5243     0.4963      1.077         28        640: 100%|██████████| 102/102 [00:51<00:00,  1.98it/s]\n",
            "                 Class     Images  Instances      Box(P          R      mAP50  mAP50-95): 100%|██████████| 6/6 [00:02<00:00,  2.03it/s]\n",
            "                   all        174        184      0.947      0.891      0.977        0.9\n",
            "\n",
            "      Epoch    GPU_mem   box_loss   cls_loss   dfl_loss  Instances       Size\n",
            "      18/30      7.12G     0.5121     0.4925      1.071         16        640: 100%|██████████| 102/102 [00:51<00:00,  1.99it/s]\n",
            "                 Class     Images  Instances      Box(P          R      mAP50  mAP50-95): 100%|██████████| 6/6 [00:03<00:00,  1.65it/s]\n",
            "                   all        174        184      0.925      0.906       0.97      0.883\n",
            "\n",
            "      Epoch    GPU_mem   box_loss   cls_loss   dfl_loss  Instances       Size\n",
            "      19/30      7.14G     0.4968     0.4734      1.067         18        640: 100%|██████████| 102/102 [00:51<00:00,  1.98it/s]\n",
            "                 Class     Images  Instances      Box(P          R      mAP50  mAP50-95): 100%|██████████| 6/6 [00:02<00:00,  2.18it/s]\n",
            "                   all        174        184       0.94      0.956      0.981      0.912\n",
            "\n",
            "      Epoch    GPU_mem   box_loss   cls_loss   dfl_loss  Instances       Size\n",
            "      20/30       7.1G     0.4804     0.4531      1.066         21        640: 100%|██████████| 102/102 [00:51<00:00,  1.98it/s]\n",
            "                 Class     Images  Instances      Box(P          R      mAP50  mAP50-95): 100%|██████████| 6/6 [00:03<00:00,  1.70it/s]\n",
            "                   all        174        184      0.905      0.945      0.975      0.904\n",
            "\n",
            "      Epoch    GPU_mem   box_loss   cls_loss   dfl_loss  Instances       Size\n",
            "      21/30      7.11G     0.4899     0.4519      1.056         17        640: 100%|██████████| 102/102 [00:51<00:00,  1.99it/s]\n",
            "                 Class     Images  Instances      Box(P          R      mAP50  mAP50-95): 100%|██████████| 6/6 [00:02<00:00,  2.37it/s]\n",
            "                   all        174        184      0.912      0.905       0.95      0.873\n",
            "\n",
            "      Epoch    GPU_mem   box_loss   cls_loss   dfl_loss  Instances       Size\n",
            "      22/30      7.13G     0.4805     0.4465      1.051         11        640: 100%|██████████| 102/102 [00:51<00:00,  1.98it/s]\n",
            "                 Class     Images  Instances      Box(P          R      mAP50  mAP50-95): 100%|██████████| 6/6 [00:02<00:00,  2.38it/s]\n",
            "                   all        174        184      0.947      0.932      0.979       0.91\n",
            "\n",
            "      Epoch    GPU_mem   box_loss   cls_loss   dfl_loss  Instances       Size\n",
            "      23/30      7.11G     0.4852     0.4305      1.058         11        640: 100%|██████████| 102/102 [00:51<00:00,  1.97it/s]\n",
            "                 Class     Images  Instances      Box(P          R      mAP50  mAP50-95): 100%|██████████| 6/6 [00:02<00:00,  2.42it/s]\n",
            "                   all        174        184      0.945      0.918      0.979      0.907\n",
            "\n",
            "      Epoch    GPU_mem   box_loss   cls_loss   dfl_loss  Instances       Size\n",
            "      24/30       7.1G     0.4566     0.4164      1.038         15        640: 100%|██████████| 102/102 [00:51<00:00,  1.97it/s]\n",
            "                 Class     Images  Instances      Box(P          R      mAP50  mAP50-95): 100%|██████████| 6/6 [00:03<00:00,  1.84it/s]\n",
            "                   all        174        184      0.951      0.932      0.984      0.913\n",
            "\n",
            "      Epoch    GPU_mem   box_loss   cls_loss   dfl_loss  Instances       Size\n",
            "      25/30      7.12G     0.4695     0.4101      1.046         23        640: 100%|██████████| 102/102 [00:52<00:00,  1.94it/s]\n",
            "                 Class     Images  Instances      Box(P          R      mAP50  mAP50-95): 100%|██████████| 6/6 [00:02<00:00,  2.34it/s]\n",
            "                   all        174        184      0.928       0.93      0.979      0.915\n",
            "\n",
            "      Epoch    GPU_mem   box_loss   cls_loss   dfl_loss  Instances       Size\n",
            "      26/30      7.11G     0.4495     0.3965      1.033         25        640: 100%|██████████| 102/102 [00:52<00:00,  1.95it/s]\n",
            "                 Class     Images  Instances      Box(P          R      mAP50  mAP50-95): 100%|██████████| 6/6 [00:03<00:00,  1.89it/s]\n",
            "                   all        174        184      0.947      0.956      0.984      0.923\n",
            "\n",
            "      Epoch    GPU_mem   box_loss   cls_loss   dfl_loss  Instances       Size\n",
            "      27/30       7.1G     0.4418     0.3885      1.026         17        640: 100%|██████████| 102/102 [00:51<00:00,  1.96it/s]\n",
            "                 Class     Images  Instances      Box(P          R      mAP50  mAP50-95): 100%|██████████| 6/6 [00:03<00:00,  1.71it/s]\n",
            "                   all        174        184       0.96      0.951      0.983      0.916\n",
            "\n",
            "      Epoch    GPU_mem   box_loss   cls_loss   dfl_loss  Instances       Size\n",
            "      28/30      7.13G     0.4417     0.3843      1.033         15        640: 100%|██████████| 102/102 [00:51<00:00,  1.97it/s]\n",
            "                 Class     Images  Instances      Box(P          R      mAP50  mAP50-95): 100%|██████████| 6/6 [00:03<00:00,  1.92it/s]\n",
            "                   all        174        184      0.943      0.969      0.983      0.915\n",
            "\n",
            "      Epoch    GPU_mem   box_loss   cls_loss   dfl_loss  Instances       Size\n",
            "      29/30      7.11G     0.4265     0.3645      1.023         18        640: 100%|██████████| 102/102 [00:51<00:00,  1.98it/s]\n",
            "                 Class     Images  Instances      Box(P          R      mAP50  mAP50-95): 100%|██████████| 6/6 [00:02<00:00,  2.39it/s]\n",
            "                   all        174        184      0.963      0.971      0.987      0.928\n",
            "\n",
            "      Epoch    GPU_mem   box_loss   cls_loss   dfl_loss  Instances       Size\n",
            "      30/30      7.13G     0.4262     0.3522      1.018         18        640: 100%|██████████| 102/102 [00:52<00:00,  1.95it/s]\n",
            "                 Class     Images  Instances      Box(P          R      mAP50  mAP50-95): 100%|██████████| 6/6 [00:05<00:00,  1.09it/s]\n",
            "                   all        174        184      0.959      0.961      0.986      0.932\n",
            "\n",
            "30 epochs completed in 0.483 hours.\n",
            "Optimizer stripped from /content/drive/MyDrive/Colab Notebooks/waste model/train10/weights/last.pt, 52.0MB\n",
            "Optimizer stripped from /content/drive/MyDrive/Colab Notebooks/waste model/train10/weights/best.pt, 52.0MB\n",
            "\n",
            "Validating /content/drive/MyDrive/Colab Notebooks/waste model/train10/weights/best.pt...\n",
            "Ultralytics YOLOv8.0.124 🚀 Python-3.10.12 torch-2.0.1+cu118 CUDA:0 (Tesla T4, 15102MiB)\n",
            "Model summary (fused): 218 layers, 25842076 parameters, 0 gradients\n",
            "                 Class     Images  Instances      Box(P          R      mAP50  mAP50-95): 100%|██████████| 6/6 [00:06<00:00,  1.07s/it]\n",
            "                   all        174        184      0.959      0.961      0.986      0.932\n",
            "         biodegradable        174         53      0.933      0.943      0.978      0.856\n",
            "                 metal        174         40      0.998       0.95      0.989      0.961\n",
            "                 paper        174         45      0.978      0.974      0.989      0.941\n",
            "               plastic        174         46      0.926      0.978      0.988      0.968\n",
            "Speed: 2.0ms preprocess, 8.4ms inference, 0.0ms loss, 4.3ms postprocess per image\n",
            "Results saved to \u001b[1m/content/drive/MyDrive/Colab Notebooks/waste model/train10\u001b[0m\n"
          ]
        }
      ],
      "source": [
        "# model = YOLO(\"/content/drive/MyDrive/Colab Notebooks/waste model/train9/weights/last.pt\")\n",
        "# results = model.train(data=\"/content/drive/MyDrive/Colab Notebooks/Waste Dataset/data.yaml\", epochs=30, pretrained=True, visualize=True,project = \"/content/drive/MyDrive/Colab Notebooks/waste model\",patience = 10)"
      ]
    },
    {
      "cell_type": "code",
      "execution_count": 9,
      "metadata": {
        "colab": {
          "base_uri": "https://localhost:8080/"
        },
        "id": "IuCbgJ9Sz41R",
        "outputId": "17c05629-a7b0-4f6e-e140-ef9e03aeda28"
      },
      "outputs": [
        {
          "name": "stderr",
          "output_type": "stream",
          "text": [
            "Ultralytics YOLOv8.0.125 🚀 Python-3.10.12 torch-2.0.1+cu118 CUDA:0 (Tesla T4, 15102MiB)\n",
            "\u001b[34m\u001b[1myolo/engine/trainer: \u001b[0mtask=detect, mode=train, model=/content/drive/MyDrive/Colab Notebooks/waste model/train11/weights/last.pt, data=/content/drive/MyDrive/Colab Notebooks/Waste Dataset/data.yaml, epochs=30, patience=10, batch=16, imgsz=640, save=True, save_period=-1, cache=False, device=None, workers=8, project=/content/drive/MyDrive/Colab Notebooks/waste model, name=None, exist_ok=False, pretrained=True, optimizer=auto, verbose=True, seed=0, deterministic=True, single_cls=False, rect=False, cos_lr=False, close_mosaic=0, resume=False, amp=True, fraction=1.0, profile=False, overlap_mask=True, mask_ratio=4, dropout=0.0, val=True, split=val, save_json=False, save_hybrid=False, conf=None, iou=0.7, max_det=300, half=False, dnn=False, plots=True, source=None, show=False, save_txt=False, save_conf=False, save_crop=False, show_labels=True, show_conf=True, vid_stride=1, line_width=None, visualize=True, augment=False, agnostic_nms=False, classes=None, retina_masks=False, boxes=True, format=torchscript, keras=False, optimize=False, int8=False, dynamic=False, simplify=False, opset=None, workspace=4, nms=False, lr0=0.01, lrf=0.01, momentum=0.937, weight_decay=0.0005, warmup_epochs=3.0, warmup_momentum=0.8, warmup_bias_lr=0.0, box=7.5, cls=0.5, dfl=1.5, pose=12.0, kobj=1.0, label_smoothing=0.0, nbs=64, hsv_h=0.015, hsv_s=0.7, hsv_v=0.4, degrees=0.0, translate=0.1, scale=0.5, shear=0.0, perspective=0.0, flipud=0.0, fliplr=0.5, mosaic=1.0, mixup=0.0, copy_paste=0.0, cfg=None, v5loader=False, tracker=botsort.yaml, save_dir=/content/drive/MyDrive/Colab Notebooks/waste model/train11\n",
            "Downloading https://ultralytics.com/assets/Arial.ttf to /root/.config/Ultralytics/Arial.ttf...\n",
            "100%|██████████| 755k/755k [00:00<00:00, 18.1MB/s]\n",
            "\u001b[34m\u001b[1mTensorBoard: \u001b[0mStart with 'tensorboard --logdir /content/drive/MyDrive/Colab Notebooks/waste model/train11', view at http://localhost:6006/\n",
            "\n",
            "                   from  n    params  module                                       arguments                     \n",
            "  0                  -1  1      1392  ultralytics.nn.modules.conv.Conv             [3, 48, 3, 2]                 \n",
            "  1                  -1  1     41664  ultralytics.nn.modules.conv.Conv             [48, 96, 3, 2]                \n",
            "  2                  -1  2    111360  ultralytics.nn.modules.block.C2f             [96, 96, 2, True]             \n",
            "  3                  -1  1    166272  ultralytics.nn.modules.conv.Conv             [96, 192, 3, 2]               \n",
            "  4                  -1  4    813312  ultralytics.nn.modules.block.C2f             [192, 192, 4, True]           \n",
            "  5                  -1  1    664320  ultralytics.nn.modules.conv.Conv             [192, 384, 3, 2]              \n",
            "  6                  -1  4   3248640  ultralytics.nn.modules.block.C2f             [384, 384, 4, True]           \n",
            "  7                  -1  1   1991808  ultralytics.nn.modules.conv.Conv             [384, 576, 3, 2]              \n",
            "  8                  -1  2   3985920  ultralytics.nn.modules.block.C2f             [576, 576, 2, True]           \n",
            "  9                  -1  1    831168  ultralytics.nn.modules.block.SPPF            [576, 576, 5]                 \n",
            " 10                  -1  1         0  torch.nn.modules.upsampling.Upsample         [None, 2, 'nearest']          \n",
            " 11             [-1, 6]  1         0  ultralytics.nn.modules.conv.Concat           [1]                           \n",
            " 12                  -1  2   1993728  ultralytics.nn.modules.block.C2f             [960, 384, 2]                 \n",
            " 13                  -1  1         0  torch.nn.modules.upsampling.Upsample         [None, 2, 'nearest']          \n",
            " 14             [-1, 4]  1         0  ultralytics.nn.modules.conv.Concat           [1]                           \n",
            " 15                  -1  2    517632  ultralytics.nn.modules.block.C2f             [576, 192, 2]                 \n",
            " 16                  -1  1    332160  ultralytics.nn.modules.conv.Conv             [192, 192, 3, 2]              \n",
            " 17            [-1, 12]  1         0  ultralytics.nn.modules.conv.Concat           [1]                           \n",
            " 18                  -1  2   1846272  ultralytics.nn.modules.block.C2f             [576, 384, 2]                 \n",
            " 19                  -1  1   1327872  ultralytics.nn.modules.conv.Conv             [384, 384, 3, 2]              \n",
            " 20             [-1, 9]  1         0  ultralytics.nn.modules.conv.Concat           [1]                           \n",
            " 21                  -1  2   4207104  ultralytics.nn.modules.block.C2f             [960, 576, 2]                 \n",
            " 22        [15, 18, 21]  1   3778012  ultralytics.nn.modules.head.Detect           [4, [192, 384, 576]]          \n",
            "Model summary: 295 layers, 25858636 parameters, 25858620 gradients\n",
            "\n",
            "Transferred 475/475 items from pretrained weights\n",
            "\u001b[34m\u001b[1mAMP: \u001b[0mrunning Automatic Mixed Precision (AMP) checks with YOLOv8n...\n",
            "Downloading https://github.com/ultralytics/assets/releases/download/v0.0.0/yolov8n.pt to yolov8n.pt...\n",
            "100%|██████████| 6.23M/6.23M [00:00<00:00, 81.3MB/s]\n",
            "\u001b[34m\u001b[1mAMP: \u001b[0mchecks passed ✅\n",
            "\u001b[34m\u001b[1mtrain: \u001b[0mScanning /content/drive/MyDrive/Colab Notebooks/Waste Dataset/train/labels.cache... 1612 images, 11 backgrounds, 0 corrupt: 100%|██████████| 1622/1622 [00:00<?, ?it/s]\n",
            "\u001b[34m\u001b[1malbumentations: \u001b[0mBlur(p=0.01, blur_limit=(3, 7)), MedianBlur(p=0.01, blur_limit=(3, 7)), ToGray(p=0.01), CLAHE(p=0.01, clip_limit=(1, 4.0), tile_grid_size=(8, 8))\n",
            "\u001b[34m\u001b[1mval: \u001b[0mScanning /content/drive/MyDrive/Colab Notebooks/Waste Dataset/valid/labels.cache... 174 images, 0 backgrounds, 0 corrupt: 100%|██████████| 174/174 [00:00<?, ?it/s]\n",
            "Plotting labels to /content/drive/MyDrive/Colab Notebooks/waste model/train11/labels.jpg... \n",
            "\u001b[34m\u001b[1moptimizer:\u001b[0m AdamW(lr=0.00125, momentum=0.9) with parameter groups 77 weight(decay=0.0), 84 weight(decay=0.0005), 83 bias(decay=0.0)\n",
            "Resuming training from /content/drive/MyDrive/Colab Notebooks/waste model/train11/weights/last.pt from epoch 8 to 30 total epochs\n",
            "Image sizes 640 train, 640 val\n",
            "Using 2 dataloader workers\n",
            "Logging results to \u001b[1m/content/drive/MyDrive/Colab Notebooks/waste model/train11\u001b[0m\n",
            "Starting training for 30 epochs...\n",
            "\n",
            "      Epoch    GPU_mem   box_loss   cls_loss   dfl_loss  Instances       Size\n",
            "       8/30      6.96G     0.4894     0.4815      1.049         27        640: 100%|██████████| 102/102 [03:51<00:00,  2.27s/it]\n",
            "                 Class     Images  Instances      Box(P          R      mAP50  mAP50-95): 100%|██████████| 6/6 [00:04<00:00,  1.22it/s]\n",
            "                   all        174        184      0.849      0.944      0.949      0.864\n",
            "\n",
            "      Epoch    GPU_mem   box_loss   cls_loss   dfl_loss  Instances       Size\n",
            "       9/30      7.09G     0.4565     0.4292      1.022         24        640: 100%|██████████| 102/102 [00:50<00:00,  2.02it/s]\n",
            "                 Class     Images  Instances      Box(P          R      mAP50  mAP50-95): 100%|██████████| 6/6 [00:03<00:00,  2.00it/s]\n",
            "                   all        174        184      0.872      0.891      0.951      0.873\n",
            "\n",
            "      Epoch    GPU_mem   box_loss   cls_loss   dfl_loss  Instances       Size\n",
            "      10/30      7.09G     0.4528      0.447      1.022         22        640: 100%|██████████| 102/102 [00:50<00:00,  2.03it/s]\n",
            "                 Class     Images  Instances      Box(P          R      mAP50  mAP50-95): 100%|██████████| 6/6 [00:02<00:00,  2.51it/s]\n",
            "                   all        174        184      0.905      0.916      0.963      0.893\n",
            "\n",
            "      Epoch    GPU_mem   box_loss   cls_loss   dfl_loss  Instances       Size\n",
            "      11/30       7.1G     0.4551      0.399      1.028         22        640: 100%|██████████| 102/102 [00:50<00:00,  2.02it/s]\n",
            "                 Class     Images  Instances      Box(P          R      mAP50  mAP50-95): 100%|██████████| 6/6 [00:02<00:00,  2.51it/s]\n",
            "                   all        174        184      0.891      0.949       0.97      0.897\n",
            "\n",
            "      Epoch    GPU_mem   box_loss   cls_loss   dfl_loss  Instances       Size\n",
            "      12/30      7.14G     0.4506     0.3979      1.022         25        640: 100%|██████████| 102/102 [00:50<00:00,  2.02it/s]\n",
            "                 Class     Images  Instances      Box(P          R      mAP50  mAP50-95): 100%|██████████| 6/6 [00:03<00:00,  1.95it/s]\n",
            "                   all        174        184      0.798      0.875      0.937       0.85\n",
            "\n",
            "      Epoch    GPU_mem   box_loss   cls_loss   dfl_loss  Instances       Size\n",
            "      13/30       7.1G     0.4649     0.4135      1.036         15        640: 100%|██████████| 102/102 [00:50<00:00,  2.03it/s]\n",
            "                 Class     Images  Instances      Box(P          R      mAP50  mAP50-95): 100%|██████████| 6/6 [00:02<00:00,  2.11it/s]\n",
            "                   all        174        184      0.953      0.906      0.971      0.896\n",
            "\n",
            "      Epoch    GPU_mem   box_loss   cls_loss   dfl_loss  Instances       Size\n",
            "      14/30      7.11G     0.4426     0.3959      1.016         16        640: 100%|██████████| 102/102 [00:50<00:00,  2.04it/s]\n",
            "                 Class     Images  Instances      Box(P          R      mAP50  mAP50-95): 100%|██████████| 6/6 [00:02<00:00,  2.50it/s]\n",
            "                   all        174        184      0.924      0.929      0.973      0.901\n",
            "\n",
            "      Epoch    GPU_mem   box_loss   cls_loss   dfl_loss  Instances       Size\n",
            "      15/30      7.13G     0.4579     0.4058      1.033         20        640: 100%|██████████| 102/102 [00:50<00:00,  2.00it/s]\n",
            "                 Class     Images  Instances      Box(P          R      mAP50  mAP50-95): 100%|██████████| 6/6 [00:03<00:00,  1.68it/s]\n",
            "                   all        174        184      0.893      0.933      0.968      0.908\n",
            "\n",
            "      Epoch    GPU_mem   box_loss   cls_loss   dfl_loss  Instances       Size\n",
            "      16/30      7.09G     0.4653     0.4097      1.038         16        640: 100%|██████████| 102/102 [00:50<00:00,  2.02it/s]\n",
            "                 Class     Images  Instances      Box(P          R      mAP50  mAP50-95): 100%|██████████| 6/6 [00:02<00:00,  2.06it/s]\n",
            "                   all        174        184       0.91      0.905      0.972      0.901\n",
            "\n",
            "      Epoch    GPU_mem   box_loss   cls_loss   dfl_loss  Instances       Size\n",
            "      17/30      7.11G      0.466     0.4118      1.041         15        640: 100%|██████████| 102/102 [00:49<00:00,  2.05it/s]\n",
            "                 Class     Images  Instances      Box(P          R      mAP50  mAP50-95): 100%|██████████| 6/6 [00:02<00:00,  2.54it/s]\n",
            "                   all        174        184      0.917      0.957      0.977      0.906\n",
            "\n",
            "      Epoch    GPU_mem   box_loss   cls_loss   dfl_loss  Instances       Size\n",
            "      18/30      7.09G     0.4707     0.4226      1.045         21        640: 100%|██████████| 102/102 [00:50<00:00,  2.02it/s]\n",
            "                 Class     Images  Instances      Box(P          R      mAP50  mAP50-95): 100%|██████████| 6/6 [00:02<00:00,  2.49it/s]\n",
            "                   all        174        184      0.929      0.952      0.981       0.91\n",
            "\n",
            "      Epoch    GPU_mem   box_loss   cls_loss   dfl_loss  Instances       Size\n",
            "      19/30       7.1G     0.4695     0.4105      1.046         21        640: 100%|██████████| 102/102 [00:50<00:00,  2.02it/s]\n",
            "                 Class     Images  Instances      Box(P          R      mAP50  mAP50-95): 100%|██████████| 6/6 [00:03<00:00,  1.99it/s]\n",
            "                   all        174        184      0.943      0.982      0.981      0.916\n",
            "\n",
            "      Epoch    GPU_mem   box_loss   cls_loss   dfl_loss  Instances       Size\n",
            "      20/30      7.12G     0.4602     0.4247      1.037         15        640: 100%|██████████| 102/102 [00:51<00:00,  1.99it/s]\n",
            "                 Class     Images  Instances      Box(P          R      mAP50  mAP50-95): 100%|██████████| 6/6 [00:02<00:00,  2.33it/s]\n",
            "                   all        174        184      0.905      0.944      0.975      0.919\n",
            "\n",
            "      Epoch    GPU_mem   box_loss   cls_loss   dfl_loss  Instances       Size\n",
            "      21/30      7.09G     0.4518     0.3899      1.034         15        640: 100%|██████████| 102/102 [00:51<00:00,  1.99it/s]\n",
            "                 Class     Images  Instances      Box(P          R      mAP50  mAP50-95): 100%|██████████| 6/6 [00:02<00:00,  2.51it/s]\n",
            "                   all        174        184      0.927      0.984      0.984      0.919\n",
            "\n",
            "      Epoch    GPU_mem   box_loss   cls_loss   dfl_loss  Instances       Size\n",
            "      22/30      7.09G     0.4459     0.3772      1.028         24        640: 100%|██████████| 102/102 [00:51<00:00,  2.00it/s]\n",
            "                 Class     Images  Instances      Box(P          R      mAP50  mAP50-95): 100%|██████████| 6/6 [00:02<00:00,  2.45it/s]\n",
            "                   all        174        184      0.964      0.963      0.984      0.927\n",
            "\n",
            "      Epoch    GPU_mem   box_loss   cls_loss   dfl_loss  Instances       Size\n",
            "      23/30      7.13G     0.4472     0.3814      1.031         24        640: 100%|██████████| 102/102 [00:50<00:00,  2.02it/s]\n",
            "                 Class     Images  Instances      Box(P          R      mAP50  mAP50-95): 100%|██████████| 6/6 [00:02<00:00,  2.03it/s]\n",
            "                   all        174        184      0.951      0.926      0.984      0.918\n",
            "\n",
            "      Epoch    GPU_mem   box_loss   cls_loss   dfl_loss  Instances       Size\n",
            "      24/30      7.09G      0.453     0.3726      1.037         28        640: 100%|██████████| 102/102 [00:49<00:00,  2.05it/s]\n",
            "                 Class     Images  Instances      Box(P          R      mAP50  mAP50-95): 100%|██████████| 6/6 [00:02<00:00,  2.50it/s]\n",
            "                   all        174        184      0.956      0.978      0.986      0.926\n",
            "\n",
            "      Epoch    GPU_mem   box_loss   cls_loss   dfl_loss  Instances       Size\n",
            "      25/30      7.09G     0.4392     0.3646      1.025         16        640: 100%|██████████| 102/102 [00:50<00:00,  2.01it/s]\n",
            "                 Class     Images  Instances      Box(P          R      mAP50  mAP50-95): 100%|██████████| 6/6 [00:02<00:00,  2.49it/s]\n",
            "                   all        174        184      0.956      0.948      0.987      0.925\n",
            "\n",
            "      Epoch    GPU_mem   box_loss   cls_loss   dfl_loss  Instances       Size\n",
            "      26/30      7.11G     0.4298     0.3491      1.028         18        640: 100%|██████████| 102/102 [00:50<00:00,  2.02it/s]\n",
            "                 Class     Images  Instances      Box(P          R      mAP50  mAP50-95): 100%|██████████| 6/6 [00:03<00:00,  1.97it/s]\n",
            "                   all        174        184      0.945      0.981      0.986      0.927\n",
            "\n",
            "      Epoch    GPU_mem   box_loss   cls_loss   dfl_loss  Instances       Size\n",
            "      27/30      7.09G     0.4159     0.3491      1.026         21        640: 100%|██████████| 102/102 [00:51<00:00,  2.00it/s]\n",
            "                 Class     Images  Instances      Box(P          R      mAP50  mAP50-95): 100%|██████████| 6/6 [00:02<00:00,  2.31it/s]\n",
            "                   all        174        184      0.936      0.979      0.988      0.929\n",
            "\n",
            "      Epoch    GPU_mem   box_loss   cls_loss   dfl_loss  Instances       Size\n",
            "      28/30       7.1G     0.4226      0.341      1.016         17        640: 100%|██████████| 102/102 [00:51<00:00,  1.99it/s]\n",
            "                 Class     Images  Instances      Box(P          R      mAP50  mAP50-95): 100%|██████████| 6/6 [00:02<00:00,  2.51it/s]\n",
            "                   all        174        184      0.953      0.973      0.989      0.929\n",
            "\n",
            "      Epoch    GPU_mem   box_loss   cls_loss   dfl_loss  Instances       Size\n",
            "      29/30      7.11G     0.4046     0.3301      1.005         11        640: 100%|██████████| 102/102 [00:50<00:00,  2.03it/s]\n",
            "                 Class     Images  Instances      Box(P          R      mAP50  mAP50-95): 100%|██████████| 6/6 [00:03<00:00,  2.00it/s]\n",
            "                   all        174        184      0.951      0.944      0.983      0.923\n",
            "\n",
            "      Epoch    GPU_mem   box_loss   cls_loss   dfl_loss  Instances       Size\n",
            "      30/30       7.1G     0.4168     0.3289      1.017         11        640: 100%|██████████| 102/102 [00:50<00:00,  2.00it/s]\n",
            "                 Class     Images  Instances      Box(P          R      mAP50  mAP50-95): 100%|██████████| 6/6 [00:05<00:00,  1.11it/s]\n",
            "                   all        174        184      0.954      0.964      0.987      0.927\n",
            "\n",
            "23 epochs completed in 0.422 hours.\n",
            "Optimizer stripped from /content/drive/MyDrive/Colab Notebooks/waste model/train11/weights/last.pt, 52.0MB\n",
            "Optimizer stripped from /content/drive/MyDrive/Colab Notebooks/waste model/train11/weights/best.pt, 52.0MB\n",
            "\n",
            "Validating /content/drive/MyDrive/Colab Notebooks/waste model/train11/weights/best.pt...\n",
            "Ultralytics YOLOv8.0.125 🚀 Python-3.10.12 torch-2.0.1+cu118 CUDA:0 (Tesla T4, 15102MiB)\n",
            "Model summary (fused): 218 layers, 25842076 parameters, 0 gradients\n",
            "                 Class     Images  Instances      Box(P          R      mAP50  mAP50-95): 100%|██████████| 6/6 [00:05<00:00,  1.10it/s]\n",
            "                   all        174        184      0.952      0.973      0.989      0.929\n",
            "         biodegradable        174         53      0.945      0.981       0.98      0.848\n",
            "                 metal        174         40      0.928      0.975      0.991      0.967\n",
            "                 paper        174         45      0.957      0.979      0.993      0.931\n",
            "               plastic        174         46      0.978       0.96      0.991      0.969\n",
            "Speed: 2.2ms preprocess, 8.0ms inference, 0.0ms loss, 2.0ms postprocess per image\n",
            "Results saved to \u001b[1m/content/drive/MyDrive/Colab Notebooks/waste model/train11\u001b[0m\n"
          ]
        }
      ],
      "source": [
        "# model = YOLO(\"/content/drive/MyDrive/Colab Notebooks/waste model/train11/weights/last.pt\")\n",
        "# results = model.train(data=\"/content/drive/MyDrive/Colab Notebooks/Waste Dataset/data.yaml\", epochs=50, pretrained=True, visualize=True,project = \"/content/drive/MyDrive/Colab Notebooks/waste model\",patience = 10,resume = True)"
      ]
    },
    {
      "cell_type": "code",
      "execution_count": 11,
      "metadata": {
        "colab": {
          "base_uri": "https://localhost:8080/"
        },
        "id": "ukQf-6PCZBXA",
        "outputId": "dbc65dbf-97de-454b-ffb5-5663bdca53e5"
      },
      "outputs": [
        {
          "name": "stderr",
          "output_type": "stream",
          "text": [
            "Ultralytics YOLOv8.0.125 🚀 Python-3.10.12 torch-2.0.1+cu118 CUDA:0 (Tesla T4, 15102MiB)\n",
            "\u001b[34m\u001b[1myolo/engine/trainer: \u001b[0mtask=detect, mode=train, model=/content/drive/MyDrive/Colab Notebooks/waste model/train11/weights/last.pt, data=/content/drive/MyDrive/Colab Notebooks/Waste Dataset/data.yaml, epochs=50, patience=10, batch=16, imgsz=640, save=True, save_period=-1, cache=False, device=None, workers=8, project=/content/drive/MyDrive/Colab Notebooks/waste model, name=None, exist_ok=False, pretrained=True, optimizer=auto, verbose=True, seed=0, deterministic=True, single_cls=False, rect=False, cos_lr=False, close_mosaic=0, resume=False, amp=True, fraction=1.0, profile=False, overlap_mask=True, mask_ratio=4, dropout=0.0, val=True, split=val, save_json=False, save_hybrid=False, conf=None, iou=0.7, max_det=300, half=False, dnn=False, plots=True, source=None, show=False, save_txt=False, save_conf=False, save_crop=False, show_labels=True, show_conf=True, vid_stride=1, line_width=None, visualize=True, augment=False, agnostic_nms=False, classes=None, retina_masks=False, boxes=True, format=torchscript, keras=False, optimize=False, int8=False, dynamic=False, simplify=False, opset=None, workspace=4, nms=False, lr0=0.01, lrf=0.01, momentum=0.937, weight_decay=0.0005, warmup_epochs=3.0, warmup_momentum=0.8, warmup_bias_lr=0.1, box=7.5, cls=0.5, dfl=1.5, pose=12.0, kobj=1.0, label_smoothing=0.0, nbs=64, hsv_h=0.015, hsv_s=0.7, hsv_v=0.4, degrees=0.0, translate=0.1, scale=0.5, shear=0.0, perspective=0.0, flipud=0.0, fliplr=0.5, mosaic=1.0, mixup=0.0, copy_paste=0.0, cfg=None, v5loader=False, tracker=botsort.yaml, save_dir=/content/drive/MyDrive/Colab Notebooks/waste model/train13\n",
            "\n",
            "                   from  n    params  module                                       arguments                     \n",
            "  0                  -1  1      1392  ultralytics.nn.modules.conv.Conv             [3, 48, 3, 2]                 \n",
            "  1                  -1  1     41664  ultralytics.nn.modules.conv.Conv             [48, 96, 3, 2]                \n",
            "  2                  -1  2    111360  ultralytics.nn.modules.block.C2f             [96, 96, 2, True]             \n",
            "  3                  -1  1    166272  ultralytics.nn.modules.conv.Conv             [96, 192, 3, 2]               \n",
            "  4                  -1  4    813312  ultralytics.nn.modules.block.C2f             [192, 192, 4, True]           \n",
            "  5                  -1  1    664320  ultralytics.nn.modules.conv.Conv             [192, 384, 3, 2]              \n",
            "  6                  -1  4   3248640  ultralytics.nn.modules.block.C2f             [384, 384, 4, True]           \n",
            "  7                  -1  1   1991808  ultralytics.nn.modules.conv.Conv             [384, 576, 3, 2]              \n",
            "  8                  -1  2   3985920  ultralytics.nn.modules.block.C2f             [576, 576, 2, True]           \n",
            "  9                  -1  1    831168  ultralytics.nn.modules.block.SPPF            [576, 576, 5]                 \n",
            " 10                  -1  1         0  torch.nn.modules.upsampling.Upsample         [None, 2, 'nearest']          \n",
            " 11             [-1, 6]  1         0  ultralytics.nn.modules.conv.Concat           [1]                           \n",
            " 12                  -1  2   1993728  ultralytics.nn.modules.block.C2f             [960, 384, 2]                 \n",
            " 13                  -1  1         0  torch.nn.modules.upsampling.Upsample         [None, 2, 'nearest']          \n",
            " 14             [-1, 4]  1         0  ultralytics.nn.modules.conv.Concat           [1]                           \n",
            " 15                  -1  2    517632  ultralytics.nn.modules.block.C2f             [576, 192, 2]                 \n",
            " 16                  -1  1    332160  ultralytics.nn.modules.conv.Conv             [192, 192, 3, 2]              \n",
            " 17            [-1, 12]  1         0  ultralytics.nn.modules.conv.Concat           [1]                           \n",
            " 18                  -1  2   1846272  ultralytics.nn.modules.block.C2f             [576, 384, 2]                 \n",
            " 19                  -1  1   1327872  ultralytics.nn.modules.conv.Conv             [384, 384, 3, 2]              \n",
            " 20             [-1, 9]  1         0  ultralytics.nn.modules.conv.Concat           [1]                           \n",
            " 21                  -1  2   4207104  ultralytics.nn.modules.block.C2f             [960, 576, 2]                 \n",
            " 22        [15, 18, 21]  1   3778012  ultralytics.nn.modules.head.Detect           [4, [192, 384, 576]]          \n",
            "Model summary: 295 layers, 25858636 parameters, 25858620 gradients\n",
            "\n",
            "Transferred 475/475 items from pretrained weights\n",
            "\u001b[34m\u001b[1mTensorBoard: \u001b[0mStart with 'tensorboard --logdir /content/drive/MyDrive/Colab Notebooks/waste model/train13', view at http://localhost:6006/\n",
            "\u001b[34m\u001b[1mAMP: \u001b[0mrunning Automatic Mixed Precision (AMP) checks with YOLOv8n...\n",
            "\u001b[34m\u001b[1mAMP: \u001b[0mchecks passed ✅\n",
            "\u001b[34m\u001b[1mtrain: \u001b[0mScanning /content/drive/MyDrive/Colab Notebooks/Waste Dataset/train/labels.cache... 1612 images, 11 backgrounds, 0 corrupt: 100%|██████████| 1622/1622 [00:00<?, ?it/s]\n",
            "\u001b[34m\u001b[1malbumentations: \u001b[0mBlur(p=0.01, blur_limit=(3, 7)), MedianBlur(p=0.01, blur_limit=(3, 7)), ToGray(p=0.01), CLAHE(p=0.01, clip_limit=(1, 4.0), tile_grid_size=(8, 8))\n",
            "\u001b[34m\u001b[1mval: \u001b[0mScanning /content/drive/MyDrive/Colab Notebooks/Waste Dataset/valid/labels.cache... 174 images, 0 backgrounds, 0 corrupt: 100%|██████████| 174/174 [00:00<?, ?it/s]\n",
            "Plotting labels to /content/drive/MyDrive/Colab Notebooks/waste model/train13/labels.jpg... \n",
            "\u001b[34m\u001b[1moptimizer:\u001b[0m AdamW(lr=0.00125, momentum=0.9) with parameter groups 77 weight(decay=0.0), 84 weight(decay=0.0005), 83 bias(decay=0.0)\n",
            "Image sizes 640 train, 640 val\n",
            "Using 2 dataloader workers\n",
            "Logging results to \u001b[1m/content/drive/MyDrive/Colab Notebooks/waste model/train13\u001b[0m\n",
            "Starting training for 50 epochs...\n",
            "\n",
            "      Epoch    GPU_mem   box_loss   cls_loss   dfl_loss  Instances       Size\n",
            "       1/50      7.01G     0.3756     0.3025     0.9878         27        640: 100%|██████████| 102/102 [00:55<00:00,  1.84it/s]\n",
            "                 Class     Images  Instances      Box(P          R      mAP50  mAP50-95): 100%|██████████| 6/6 [00:02<00:00,  2.47it/s]\n",
            "                   all        174        184      0.884      0.928      0.978      0.909\n",
            "\n",
            "      Epoch    GPU_mem   box_loss   cls_loss   dfl_loss  Instances       Size\n",
            "       2/50      7.31G     0.3832     0.3184     0.9801         24        640: 100%|██████████| 102/102 [00:52<00:00,  1.93it/s]\n",
            "                 Class     Images  Instances      Box(P          R      mAP50  mAP50-95): 100%|██████████| 6/6 [00:03<00:00,  1.86it/s]\n",
            "                   all        174        184      0.876      0.926      0.959      0.884\n",
            "\n",
            "      Epoch    GPU_mem   box_loss   cls_loss   dfl_loss  Instances       Size\n",
            "       3/50       7.3G     0.4193     0.3732      1.002         22        640: 100%|██████████| 102/102 [00:50<00:00,  2.02it/s]\n",
            "                 Class     Images  Instances      Box(P          R      mAP50  mAP50-95): 100%|██████████| 6/6 [00:03<00:00,  1.84it/s]\n",
            "                   all        174        184      0.892      0.928      0.962      0.858\n",
            "\n",
            "      Epoch    GPU_mem   box_loss   cls_loss   dfl_loss  Instances       Size\n",
            "       4/50       7.3G     0.4469     0.4031      1.019         22        640: 100%|██████████| 102/102 [00:50<00:00,  2.00it/s]\n",
            "                 Class     Images  Instances      Box(P          R      mAP50  mAP50-95): 100%|██████████| 6/6 [00:03<00:00,  1.78it/s]\n",
            "                   all        174        184       0.86      0.941      0.953      0.873\n",
            "\n",
            "      Epoch    GPU_mem   box_loss   cls_loss   dfl_loss  Instances       Size\n",
            "       5/50      7.35G     0.4604     0.4234      1.025         25        640: 100%|██████████| 102/102 [00:50<00:00,  2.03it/s]\n",
            "                 Class     Images  Instances      Box(P          R      mAP50  mAP50-95): 100%|██████████| 6/6 [00:03<00:00,  1.86it/s]\n",
            "                   all        174        184      0.909      0.883      0.951      0.859\n",
            "\n",
            "      Epoch    GPU_mem   box_loss   cls_loss   dfl_loss  Instances       Size\n",
            "       6/50      7.29G     0.4736     0.4174      1.032         15        640: 100%|██████████| 102/102 [00:50<00:00,  2.03it/s]\n",
            "                 Class     Images  Instances      Box(P          R      mAP50  mAP50-95): 100%|██████████| 6/6 [00:02<00:00,  2.10it/s]\n",
            "                   all        174        184      0.865      0.888      0.931      0.844\n",
            "\n",
            "      Epoch    GPU_mem   box_loss   cls_loss   dfl_loss  Instances       Size\n",
            "       7/50      7.34G     0.4573     0.4185      1.025         16        640: 100%|██████████| 102/102 [00:50<00:00,  2.03it/s]\n",
            "                 Class     Images  Instances      Box(P          R      mAP50  mAP50-95): 100%|██████████| 6/6 [00:03<00:00,  1.80it/s]\n",
            "                   all        174        184      0.917      0.939      0.975      0.898\n",
            "\n",
            "      Epoch    GPU_mem   box_loss   cls_loss   dfl_loss  Instances       Size\n",
            "       8/50      7.32G     0.4789     0.4422      1.045         20        640: 100%|██████████| 102/102 [00:49<00:00,  2.04it/s]\n",
            "                 Class     Images  Instances      Box(P          R      mAP50  mAP50-95): 100%|██████████| 6/6 [00:02<00:00,  2.50it/s]\n",
            "                   all        174        184      0.873      0.944      0.971      0.892\n",
            "\n",
            "      Epoch    GPU_mem   box_loss   cls_loss   dfl_loss  Instances       Size\n",
            "       9/50      7.32G     0.4828     0.4297      1.045         16        640: 100%|██████████| 102/102 [00:50<00:00,  2.02it/s]\n",
            "                 Class     Images  Instances      Box(P          R      mAP50  mAP50-95): 100%|██████████| 6/6 [00:03<00:00,  1.95it/s]\n",
            "                   all        174        184      0.872      0.951      0.978      0.896\n",
            "\n",
            "      Epoch    GPU_mem   box_loss   cls_loss   dfl_loss  Instances       Size\n",
            "      10/50      7.31G     0.4763     0.4325      1.045         15        640: 100%|██████████| 102/102 [00:50<00:00,  2.02it/s]\n",
            "                 Class     Images  Instances      Box(P          R      mAP50  mAP50-95): 100%|██████████| 6/6 [00:03<00:00,  1.81it/s]\n",
            "                   all        174        184      0.876      0.921      0.953       0.87\n",
            "\n",
            "      Epoch    GPU_mem   box_loss   cls_loss   dfl_loss  Instances       Size\n",
            "      11/50      7.31G     0.4837     0.4496      1.049         21        640: 100%|██████████| 102/102 [00:50<00:00,  2.02it/s]\n",
            "                 Class     Images  Instances      Box(P          R      mAP50  mAP50-95): 100%|██████████| 6/6 [00:06<00:00,  1.05s/it]\n",
            "                   all        174        184       0.93      0.931      0.972      0.902\n",
            "Stopping training early as no improvement observed in last 10 epochs. Best results observed at epoch 1, best model saved as best.pt.\n",
            "To update EarlyStopping(patience=10) pass a new patience value, i.e. `patience=300` or use `patience=0` to disable EarlyStopping.\n",
            "\n",
            "11 epochs completed in 0.184 hours.\n",
            "Optimizer stripped from /content/drive/MyDrive/Colab Notebooks/waste model/train13/weights/last.pt, 52.0MB\n",
            "Optimizer stripped from /content/drive/MyDrive/Colab Notebooks/waste model/train13/weights/best.pt, 52.0MB\n",
            "\n",
            "Validating /content/drive/MyDrive/Colab Notebooks/waste model/train13/weights/best.pt...\n",
            "Ultralytics YOLOv8.0.125 🚀 Python-3.10.12 torch-2.0.1+cu118 CUDA:0 (Tesla T4, 15102MiB)\n",
            "Model summary (fused): 218 layers, 25842076 parameters, 0 gradients\n",
            "                 Class     Images  Instances      Box(P          R      mAP50  mAP50-95): 100%|██████████| 6/6 [00:05<00:00,  1.03it/s]\n",
            "                   all        174        184      0.885      0.939      0.978      0.909\n",
            "         biodegradable        174         53      0.905      0.981      0.976       0.86\n",
            "                 metal        174         40      0.782          1      0.967      0.932\n",
            "                 paper        174         45      0.882      0.993      0.988      0.916\n",
            "               plastic        174         46      0.973      0.782      0.981      0.929\n",
            "Speed: 1.9ms preprocess, 8.8ms inference, 0.0ms loss, 2.1ms postprocess per image\n",
            "Results saved to \u001b[1m/content/drive/MyDrive/Colab Notebooks/waste model/train13\u001b[0m\n"
          ]
        }
      ],
      "source": [
        "# model = YOLO(\"/content/drive/MyDrive/Colab Notebooks/waste model/train11/weights/last.pt\")\n",
        "# results = model.train(data=\"/content/drive/MyDrive/Colab Notebooks/Waste Dataset/data.yaml\", epochs=50, pretrained=True, visualize=True,project = \"/content/drive/MyDrive/Colab Notebooks/waste model\",patience = 10)"
      ]
    },
    {
      "cell_type": "code",
      "execution_count": 3,
      "metadata": {
        "id": "5Xgfn1UycExi"
      },
      "outputs": [],
      "source": [
        "model = YOLO(\"model_best_weights.pt\")"
      ]
    },
    {
      "cell_type": "code",
      "execution_count": 6,
      "metadata": {},
      "outputs": [
        {
          "name": "stderr",
          "output_type": "stream",
          "text": [
            "\n",
            "image 1/40 C:\\Users\\dell\\OneDrive\\Documents\\Delta Arm Waste Classifier\\Waste dataset\\test\\images\\TEST_BIODEG_HFL_1010_jpg.rf.2ecfdc73796cf93ac9586963b9d9de85.jpg: 640x640 1 biodegradable, 1311.7ms\n",
            "image 2/40 C:\\Users\\dell\\OneDrive\\Documents\\Delta Arm Waste Classifier\\Waste dataset\\test\\images\\TEST_BIODEG_VFL_984_jpg.rf.dfb9d83c0ce9af09b850036decc71db0.jpg: 640x640 1 biodegradable, 1242.8ms\n",
            "image 3/40 C:\\Users\\dell\\OneDrive\\Documents\\Delta Arm Waste Classifier\\Waste dataset\\test\\images\\biological138_jpg.rf.43afc66cd2ac65110088f6af5d9069cb.jpg: 640x448 1 biodegradable, 886.5ms\n",
            "image 4/40 C:\\Users\\dell\\OneDrive\\Documents\\Delta Arm Waste Classifier\\Waste dataset\\test\\images\\biological228_jpg.rf.05a306f399dddcc68a66bbe5f48cbfb9.jpg: 640x640 3 biodegradables, 1251.2ms\n",
            "image 5/40 C:\\Users\\dell\\OneDrive\\Documents\\Delta Arm Waste Classifier\\Waste dataset\\test\\images\\biological320_jpg.rf.679e7e7e0d424c5e8aa1b86c5eeca16d.jpg: 480x640 1 biodegradable, 947.8ms\n",
            "image 6/40 C:\\Users\\dell\\OneDrive\\Documents\\Delta Arm Waste Classifier\\Waste dataset\\test\\images\\biological332_jpg.rf.bc1091f496c009787eada68802fae6ca.jpg: 480x640 2 biodegradables, 949.6ms\n",
            "image 7/40 C:\\Users\\dell\\OneDrive\\Documents\\Delta Arm Waste Classifier\\Waste dataset\\test\\images\\biological379_jpg.rf.5112aea150acb6ac7b981918fb41882b.jpg: 512x640 1 biodegradable, 995.9ms\n",
            "image 8/40 C:\\Users\\dell\\OneDrive\\Documents\\Delta Arm Waste Classifier\\Waste dataset\\test\\images\\biological383_jpg.rf.b03a8b42a9492104837ab69ad9775c2f.jpg: 640x608 1 biodegradable, 1134.0ms\n",
            "image 9/40 C:\\Users\\dell\\OneDrive\\Documents\\Delta Arm Waste Classifier\\Waste dataset\\test\\images\\biological825_jpg.rf.51af8e90bbc59c547666f3c7f5dfcec1.jpg: 480x640 1 biodegradable, 939.6ms\n",
            "image 10/40 C:\\Users\\dell\\OneDrive\\Documents\\Delta Arm Waste Classifier\\Waste dataset\\test\\images\\biological86_jpg.rf.bb3628441a223a4e048dbbd96bda5a52.jpg: 640x640 1 biodegradable, 1260.9ms\n",
            "image 11/40 C:\\Users\\dell\\OneDrive\\Documents\\Delta Arm Waste Classifier\\Waste dataset\\test\\images\\metal192-2-_jpg.rf.5c13e248c9444f0f184a7fd04271ae36.jpg: 480x640 1 metal, 960.8ms\n",
            "image 12/40 C:\\Users\\dell\\OneDrive\\Documents\\Delta Arm Waste Classifier\\Waste dataset\\test\\images\\metal1_jpg.rf.77cc5bb49e14bb3487b011a27155f778.jpg: 480x640 1 metal, 934.5ms\n",
            "image 13/40 C:\\Users\\dell\\OneDrive\\Documents\\Delta Arm Waste Classifier\\Waste dataset\\test\\images\\metal301_jpg.rf.fb5069cdc05b4ae944d0adbe1afbd2bb.jpg: 480x640 1 metal, 932.8ms\n",
            "image 14/40 C:\\Users\\dell\\OneDrive\\Documents\\Delta Arm Waste Classifier\\Waste dataset\\test\\images\\metal309_jpg.rf.200c63e939fc9844047b38a393d84f1a.jpg: 480x640 1 metal, 940.0ms\n",
            "image 15/40 C:\\Users\\dell\\OneDrive\\Documents\\Delta Arm Waste Classifier\\Waste dataset\\test\\images\\metal311_jpg.rf.3ac46a0a0880f3e5208bf7c4b07cd305.jpg: 480x640 1 metal, 957.2ms\n",
            "image 16/40 C:\\Users\\dell\\OneDrive\\Documents\\Delta Arm Waste Classifier\\Waste dataset\\test\\images\\metal317_jpg.rf.8f4f1ae5ab24b17902d9172379eb4c23.jpg: 480x640 1 metal, 950.8ms\n",
            "image 17/40 C:\\Users\\dell\\OneDrive\\Documents\\Delta Arm Waste Classifier\\Waste dataset\\test\\images\\metal329_jpg.rf.e5f1fb1b1472b5a834d90cff1e198494.jpg: 480x640 1 metal, 946.0ms\n",
            "image 18/40 C:\\Users\\dell\\OneDrive\\Documents\\Delta Arm Waste Classifier\\Waste dataset\\test\\images\\metal386_jpg.rf.085d7106520e556f76e09858c03400be.jpg: 480x640 1 metal, 938.8ms\n",
            "image 19/40 C:\\Users\\dell\\OneDrive\\Documents\\Delta Arm Waste Classifier\\Waste dataset\\test\\images\\paper164_jpg.rf.f9d5bf045647ba7db74becb3186ce251.jpg: 480x640 1 paper, 950.2ms\n",
            "image 20/40 C:\\Users\\dell\\OneDrive\\Documents\\Delta Arm Waste Classifier\\Waste dataset\\test\\images\\paper260_jpg.rf.f75c73927f6480c894d1ad383ff5caf0.jpg: 480x640 1 paper, 939.8ms\n",
            "image 21/40 C:\\Users\\dell\\OneDrive\\Documents\\Delta Arm Waste Classifier\\Waste dataset\\test\\images\\paper264_jpg.rf.ca0a93bed47e293e2a52f48b9add768f.jpg: 480x640 1 paper, 949.6ms\n",
            "image 22/40 C:\\Users\\dell\\OneDrive\\Documents\\Delta Arm Waste Classifier\\Waste dataset\\test\\images\\paper361_jpg.rf.7de4af5aa4b5080115d72308f6388d5a.jpg: 480x640 1 paper, 942.0ms\n",
            "image 23/40 C:\\Users\\dell\\OneDrive\\Documents\\Delta Arm Waste Classifier\\Waste dataset\\test\\images\\paper389_jpg.rf.945d82c5b7c0c05c426b918175461e9b.jpg: 480x640 1 paper, 953.1ms\n",
            "image 24/40 C:\\Users\\dell\\OneDrive\\Documents\\Delta Arm Waste Classifier\\Waste dataset\\test\\images\\paper394_jpg.rf.ec155065922cee81c64b9f4adcf09347.jpg: 480x640 1 metal, 1 paper, 948.3ms\n",
            "image 25/40 C:\\Users\\dell\\OneDrive\\Documents\\Delta Arm Waste Classifier\\Waste dataset\\test\\images\\paper396_jpg.rf.ac02e7f7b1615d96bc69026387a3ed39.jpg: 480x640 1 paper, 944.5ms\n",
            "image 26/40 C:\\Users\\dell\\OneDrive\\Documents\\Delta Arm Waste Classifier\\Waste dataset\\test\\images\\paper471_jpg.rf.799ba33e05ee1441b2765b471afd6c4e.jpg: 480x640 1 paper, 948.2ms\n",
            "image 27/40 C:\\Users\\dell\\OneDrive\\Documents\\Delta Arm Waste Classifier\\Waste dataset\\test\\images\\paper520_jpg.rf.ff72a18838a67de32a035b8e0241e747.jpg: 480x640 1 paper, 941.7ms\n",
            "image 28/40 C:\\Users\\dell\\OneDrive\\Documents\\Delta Arm Waste Classifier\\Waste dataset\\test\\images\\plastic157_jpg.rf.2baa0bb0deb71bf6720f888d920ecb3a.jpg: 480x640 1 plastic, 932.6ms\n",
            "image 29/40 C:\\Users\\dell\\OneDrive\\Documents\\Delta Arm Waste Classifier\\Waste dataset\\test\\images\\plastic202_jpg.rf.bc8fc3b1d4242e781dfd29dabc52e570.jpg: 480x640 1 plastic, 929.5ms\n",
            "image 30/40 C:\\Users\\dell\\OneDrive\\Documents\\Delta Arm Waste Classifier\\Waste dataset\\test\\images\\plastic227_jpg.rf.184bb4f8ab170be0a5bd82b3388bdf2e.jpg: 480x640 1 plastic, 945.3ms\n",
            "image 31/40 C:\\Users\\dell\\OneDrive\\Documents\\Delta Arm Waste Classifier\\Waste dataset\\test\\images\\plastic269_jpg.rf.7efba3bbea62eff5120060981e3320d4.jpg: 480x640 1 plastic, 954.0ms\n",
            "image 32/40 C:\\Users\\dell\\OneDrive\\Documents\\Delta Arm Waste Classifier\\Waste dataset\\test\\images\\plastic334_jpg.rf.b2ef6efe38f337c35b0a25846fa04059.jpg: 480x640 1 plastic, 940.6ms\n",
            "image 33/40 C:\\Users\\dell\\OneDrive\\Documents\\Delta Arm Waste Classifier\\Waste dataset\\test\\images\\plastic34_jpg.rf.173b64fa47a837efa5f981bb8ac8351b.jpg: 480x640 1 plastic, 935.8ms\n",
            "image 34/40 C:\\Users\\dell\\OneDrive\\Documents\\Delta Arm Waste Classifier\\Waste dataset\\test\\images\\plastic363_jpg.rf.c080f9533a31f3719093ae78bf87dd88.jpg: 480x640 1 plastic, 928.9ms\n",
            "image 35/40 C:\\Users\\dell\\OneDrive\\Documents\\Delta Arm Waste Classifier\\Waste dataset\\test\\images\\plastic443_jpg.rf.261cb0530eb8a332a9b9a5b8677e27e2.jpg: 480x640 1 plastic, 940.9ms\n",
            "image 36/40 C:\\Users\\dell\\OneDrive\\Documents\\Delta Arm Waste Classifier\\Waste dataset\\test\\images\\plastic68_jpg.rf.5690b39e77d693b09a1a86c9716092b7.jpg: 480x640 1 metal, 940.5ms\n",
            "image 37/40 C:\\Users\\dell\\OneDrive\\Documents\\Delta Arm Waste Classifier\\Waste dataset\\test\\images\\trash297_jpg.rf.967f42a70a03dbb0d4e360482285f524.jpg: 480x640 1 metal, 1 paper, 936.3ms\n",
            "image 38/40 C:\\Users\\dell\\OneDrive\\Documents\\Delta Arm Waste Classifier\\Waste dataset\\test\\images\\trash41_jpg.rf.89a4c9ef5a134ce501d9cb71447b77d1.jpg: 480x640 1 paper, 940.3ms\n",
            "image 39/40 C:\\Users\\dell\\OneDrive\\Documents\\Delta Arm Waste Classifier\\Waste dataset\\test\\images\\trash53_jpg.rf.e47217229e5dba031963cbfaf6a9c654.jpg: 480x640 1 plastic, 945.0ms\n",
            "image 40/40 C:\\Users\\dell\\OneDrive\\Documents\\Delta Arm Waste Classifier\\Waste dataset\\test\\images\\trash87_jpg.rf.f1bce76ddae829c3933130cdaecfc186.jpg: 480x640 1 paper, 958.5ms\n",
            "Speed: 5.7ms preprocess, 980.7ms inference, 4.0ms postprocess per image at shape (1, 3, 480, 640)\n",
            "Results saved to \u001b[1mruns\\detect\\predict\u001b[0m\n"
          ]
        }
      ],
      "source": [
        "source = \"C:\\\\Users\\\\dell\\\\OneDrive\\\\Documents\\\\Delta Arm Waste Classifier\\\\Waste dataset\\\\test\\\\images\"\n",
        "results = model.predict(source=source, save = True, iou = 0.5, conf = 0.5)"
      ]
    },
    {
      "cell_type": "code",
      "execution_count": 10,
      "metadata": {},
      "outputs": [
        {
          "name": "stderr",
          "output_type": "stream",
          "text": [
            "\n",
            "image 1/1 c:\\Users\\dell\\OneDrive\\Documents\\Delta Arm Waste Classifier\\Model Training Code\\test2.jpg: 640x640 3 biodegradables, 1388.4ms\n",
            "Speed: 9.0ms preprocess, 1388.4ms inference, 9.7ms postprocess per image at shape (1, 3, 640, 640)\n",
            "Results saved to \u001b[1mruns\\detect\\predict\u001b[0m\n",
            "1 label saved to runs\\detect\\predict\\labels\n"
          ]
        }
      ],
      "source": [
        "source = \"test2.jpg\"\n",
        "results = model.predict(source=source, save = True, conf = 0.5,save_txt = True )"
      ]
    },
    {
      "cell_type": "code",
      "execution_count": 13,
      "metadata": {},
      "outputs": [],
      "source": [
        "result = results[0]"
      ]
    },
    {
      "cell_type": "code",
      "execution_count": 18,
      "metadata": {},
      "outputs": [
        {
          "data": {
            "text/plain": [
              "3"
            ]
          },
          "execution_count": 18,
          "metadata": {},
          "output_type": "execute_result"
        }
      ],
      "source": [
        "len(result.boxes)"
      ]
    },
    {
      "attachments": {},
      "cell_type": "markdown",
      "metadata": {},
      "source": [
        "xyxy – the coordinates of the box as an array [x1,y1,x2,y2]\n",
        "(x1,y1) top left corner of bounding box\n",
        "(x2,y2) bottom right corner of bounding box"
      ]
    },
    {
      "cell_type": "code",
      "execution_count": 19,
      "metadata": {},
      "outputs": [
        {
          "name": "stdout",
          "output_type": "stream",
          "text": [
            "Object type: 0.0\n",
            "Coordinates: [180.5184783935547, 17.638978958129883, 224.9306640625, 120.55499267578125]\n",
            "Probability: 0.9179664850234985\n"
          ]
        }
      ],
      "source": [
        "box = result.boxes[0]\n",
        "cords = box.xyxy[0].tolist()  \n",
        "class_id = box.cls[0].item()\n",
        "conf = box.conf[0].item()\n",
        "print(\"Object type:\", class_id)\n",
        "print(\"Coordinates:\", cords)\n",
        "print(\"Probability:\", conf)"
      ]
    },
    {
      "cell_type": "code",
      "execution_count": 21,
      "metadata": {},
      "outputs": [
        {
          "name": "stdout",
          "output_type": "stream",
          "text": [
            "Object type: 0.0\n",
            "Coordinates: [6.8201494216918945, 14.35063362121582, 214.13558959960938, 223.23416137695312]\n",
            "Probability: 0.8918564915657043\n"
          ]
        }
      ],
      "source": [
        "box = result.boxes[1]\n",
        "cords = box.xyxy[0].tolist()\n",
        "class_id = box.cls[0].item()\n",
        "conf = box.conf[0].item()\n",
        "print(\"Object type:\", class_id)\n",
        "print(\"Coordinates:\", cords)\n",
        "print(\"Probability:\", conf)"
      ]
    },
    {
      "cell_type": "code",
      "execution_count": 22,
      "metadata": {},
      "outputs": [
        {
          "name": "stdout",
          "output_type": "stream",
          "text": [
            "Object type: 0.0\n",
            "Coordinates: [211.031982421875, 105.11920166015625, 224.97105407714844, 202.77354431152344]\n",
            "Probability: 0.5704054832458496\n"
          ]
        }
      ],
      "source": [
        "box = result.boxes[2]\n",
        "cords = box.xyxy[0].tolist()\n",
        "class_id = box.cls[0].item()\n",
        "conf = box.conf[0].item()\n",
        "print(\"Object type:\", class_id)\n",
        "print(\"Coordinates:\", cords)\n",
        "print(\"Probability:\", conf)"
      ]
    },
    {
      "cell_type": "code",
      "execution_count": null,
      "metadata": {},
      "outputs": [],
      "source": []
    }
  ],
  "metadata": {
    "accelerator": "GPU",
    "colab": {
      "gpuType": "T4",
      "provenance": []
    },
    "kernelspec": {
      "display_name": "Python 3",
      "name": "python3"
    },
    "language_info": {
      "codemirror_mode": {
        "name": "ipython",
        "version": 3
      },
      "file_extension": ".py",
      "mimetype": "text/x-python",
      "name": "python",
      "nbconvert_exporter": "python",
      "pygments_lexer": "ipython3",
      "version": "3.10.0"
    }
  },
  "nbformat": 4,
  "nbformat_minor": 0
}
